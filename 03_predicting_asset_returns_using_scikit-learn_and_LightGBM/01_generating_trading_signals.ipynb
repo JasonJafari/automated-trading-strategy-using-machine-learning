{
 "cells": [
  {
   "cell_type": "markdown",
   "metadata": {},
   "source": [
    "# Generating trading signals with LightGBM and CatBoost"
   ]
  },
  {
   "cell_type": "markdown",
   "metadata": {},
   "source": [
    "## Imports & Settings"
   ]
  },
  {
   "cell_type": "code",
   "execution_count": 1,
   "metadata": {
    "ExecuteTime": {
     "end_time": "2020-06-25T00:13:03.080885Z",
     "start_time": "2020-06-25T00:13:03.075490Z"
    }
   },
   "outputs": [],
   "source": [
    "import warnings\n",
    "warnings.filterwarnings('ignore')"
   ]
  },
  {
   "cell_type": "code",
   "execution_count": 2,
   "metadata": {
    "ExecuteTime": {
     "end_time": "2020-06-25T00:13:03.909256Z",
     "start_time": "2020-06-25T00:13:03.231155Z"
    },
    "scrolled": true
   },
   "outputs": [],
   "source": [
    "%matplotlib inline\n",
    "\n",
    "from pathlib import Path\n",
    "import sys, os\n",
    "from time import time\n",
    "from collections import defaultdict\n",
    "from itertools import product\n",
    "\n",
    "import numpy as np\n",
    "import pandas as pd\n",
    "\n",
    "import lightgbm as lgb\n",
    "\n",
    "from sklearn.linear_model import LinearRegression, Ridge\n",
    "from scipy.stats import spearmanr\n",
    "\n",
    "from alphalens.tears import (create_summary_tear_sheet,\n",
    "                             create_full_tear_sheet)\n",
    "\n",
    "from alphalens.utils import get_clean_factor_and_forward_returns\n",
    "\n",
    "import matplotlib.pyplot as plt\n",
    "import seaborn as sns"
   ]
  },
  {
   "cell_type": "code",
   "execution_count": 3,
   "metadata": {
    "ExecuteTime": {
     "end_time": "2020-06-25T00:13:03.911939Z",
     "start_time": "2020-06-25T00:13:03.910212Z"
    },
    "scrolled": true
   },
   "outputs": [],
   "source": [
    "sns.set_style('whitegrid')"
   ]
  },
  {
   "cell_type": "code",
   "execution_count": 4,
   "metadata": {
    "ExecuteTime": {
     "end_time": "2020-06-25T00:13:03.926636Z",
     "start_time": "2020-06-25T00:13:03.912944Z"
    },
    "scrolled": true
   },
   "outputs": [],
   "source": [
    "YEAR = 252\n",
    "idx = pd.IndexSlice"
   ]
  },
  {
   "cell_type": "code",
   "execution_count": 70,
   "metadata": {
    "ExecuteTime": {
     "end_time": "2020-06-25T00:31:02.544905Z",
     "start_time": "2020-06-25T00:31:02.535812Z"
    }
   },
   "outputs": [],
   "source": [
    "def format_time(t):\n",
    "    \"\"\"Return a formatted time string 'HH:MM:SS\n",
    "    based on a numeric time() value\"\"\"\n",
    "    m, s = divmod(t, 60)\n",
    "    h, m = divmod(m, 60)\n",
    "    return f'{h:0>2.0f}:{m:0>2.0f}:{s:0>2.0f}'"
   ]
  },
  {
   "cell_type": "markdown",
   "metadata": {},
   "source": [
    "## Get Data"
   ]
  },
  {
   "cell_type": "code",
   "execution_count": 5,
   "metadata": {
    "ExecuteTime": {
     "end_time": "2020-06-25T00:13:05.161545Z",
     "start_time": "2020-06-25T00:13:04.223988Z"
    },
    "scrolled": false
   },
   "outputs": [
    {
     "name": "stdout",
     "output_type": "stream",
     "text": [
      "<class 'pandas.core.frame.DataFrame'>\n",
      "MultiIndex: 1247456 entries, ('A', Timestamp('2007-01-04 00:00:00')) to ('ZMH', Timestamp('2015-06-25 00:00:00'))\n",
      "Data columns (total 52 columns):\n",
      " #   Column       Non-Null Count    Dtype  \n",
      "---  ------       --------------    -----  \n",
      " 0   ret_01       1246956 non-null  float64\n",
      " 1   ret_03       1245956 non-null  float64\n",
      " 2   ret_05       1244956 non-null  float64\n",
      " 3   ret_10       1242456 non-null  float64\n",
      " 4   ret_21       1236956 non-null  float64\n",
      " 5   ret_42       1226456 non-null  float64\n",
      " 6   ret_63       1215956 non-null  float64\n",
      " 7   ret_126      1184456 non-null  float64\n",
      " 8   ret_252      1121456 non-null  float64\n",
      " 9   ret_fwd      1247456 non-null  float64\n",
      " 10  BB_UP        1237956 non-null  float64\n",
      " 11  BB_LOW       1237956 non-null  float64\n",
      " 12  BB_SQUEEZE   1237956 non-null  float64\n",
      " 13  HT           1215956 non-null  float64\n",
      " 14  SAR          1246956 non-null  float64\n",
      " 15  ADX          1233956 non-null  float64\n",
      " 16  ADXR         1227456 non-null  float64\n",
      " 17  PPO          1234956 non-null  float64\n",
      " 18  AARONOSC     1240456 non-null  float64\n",
      " 19  BOP          1247456 non-null  float64\n",
      " 20  CCI          1240956 non-null  float64\n",
      " 21  MACD         1230956 non-null  float64\n",
      " 22  MACD_SIGNAL  1230956 non-null  float64\n",
      " 23  MACD_HIST    1230956 non-null  float64\n",
      " 24  MFI          1240456 non-null  float64\n",
      " 25  RSI          1240456 non-null  float64\n",
      " 26  STOCHRSI     1232956 non-null  float64\n",
      " 27  STOCH        1238949 non-null  float64\n",
      " 28  ULTOSC       1233456 non-null  float64\n",
      " 29  WILLR        1240956 non-null  float64\n",
      " 30  AD           1247456 non-null  float64\n",
      " 31  ADOSC        1240940 non-null  float64\n",
      " 32  OBV          1247456 non-null  float64\n",
      " 33  ATR          1240456 non-null  float64\n",
      " 34  ALPHA_21     1236956 non-null  float64\n",
      " 35  MARKET_21    1236956 non-null  float64\n",
      " 36  SMB_21       1236956 non-null  float64\n",
      " 37  HML_21       1236956 non-null  float64\n",
      " 38  RMW_21       1236956 non-null  float64\n",
      " 39  CMA_21       1236956 non-null  float64\n",
      " 40  ALPHA_63     1215956 non-null  float64\n",
      " 41  MARKET_63    1215956 non-null  float64\n",
      " 42  SMB_63       1215956 non-null  float64\n",
      " 43  HML_63       1215956 non-null  float64\n",
      " 44  RMW_63       1215956 non-null  float64\n",
      " 45  CMA_63       1215956 non-null  float64\n",
      " 46  ALPHA_252    1121456 non-null  float64\n",
      " 47  MARKET_252   1121456 non-null  float64\n",
      " 48  SMB_252      1121456 non-null  float64\n",
      " 49  HML_252      1121456 non-null  float64\n",
      " 50  RMW_252      1121456 non-null  float64\n",
      " 51  CMA_252      1121456 non-null  float64\n",
      "dtypes: float64(52)\n",
      "memory usage: 499.7+ MB\n"
     ]
    }
   ],
   "source": [
    "data = (pd.read_hdf('../data/us_stocks.h5', 'model_data')\n",
    "            .sort_index())\n",
    "data.info(null_counts=True)"
   ]
  },
  {
   "cell_type": "markdown",
   "metadata": {},
   "source": [
    "## Custom Time Series Cross-Validation"
   ]
  },
  {
   "cell_type": "code",
   "execution_count": 8,
   "metadata": {
    "ExecuteTime": {
     "end_time": "2020-06-25T00:13:17.710231Z",
     "start_time": "2020-06-25T00:13:17.687727Z"
    }
   },
   "outputs": [],
   "source": [
    "class MultipleTimeSeriesCV:\n",
    "    \"\"\"Generates tuples of train_idx, test_idx pairs\n",
    "    Assumes the MultiIndex contains levels 'symbol' and 'date'\n",
    "    purges overlapping outcomes\"\"\"\n",
    "\n",
    "    def __init__(self,\n",
    "                 n_splits=3,\n",
    "                 train_period_length=126,\n",
    "                 test_period_length=21,\n",
    "                 lookahead=None,\n",
    "                 date_idx='date',\n",
    "                 shuffle=False):\n",
    "        self.n_splits = n_splits\n",
    "        self.lookahead = lookahead\n",
    "        self.test_length = test_period_length\n",
    "        self.train_length = train_period_length\n",
    "        self.shuffle = shuffle\n",
    "        self.date_idx = date_idx\n",
    "\n",
    "    def split(self, X, y=None, groups=None):\n",
    "        unique_dates = X.index.get_level_values(self.date_idx).unique()\n",
    "        days = sorted(unique_dates, reverse=True)\n",
    "        split_idx = []\n",
    "        for i in range(self.n_splits):\n",
    "            test_end_idx = i * self.test_length\n",
    "            test_start_idx = test_end_idx + self.test_length\n",
    "            train_end_idx = test_start_idx + self.lookahead - 1\n",
    "            train_start_idx = train_end_idx + self.train_length + self.lookahead - 1\n",
    "            split_idx.append([train_start_idx, train_end_idx,\n",
    "                              test_start_idx, test_end_idx])\n",
    "\n",
    "        dates = X.reset_index()[[self.date_idx]]\n",
    "        for train_start, train_end, test_start, test_end in split_idx:\n",
    "\n",
    "            train_idx = dates[(dates[self.date_idx] > days[train_start])\n",
    "                              & (dates.date <= days[train_end])].index\n",
    "            test_idx = dates[(dates.date > days[test_start])\n",
    "                             & (dates.date <= days[test_end])].index\n",
    "            if self.shuffle:\n",
    "                np.random.shuffle(list(train_idx))\n",
    "            yield train_idx.to_numpy(), test_idx.to_numpy()\n",
    "\n",
    "    def get_n_splits(self, X, y, groups=None):\n",
    "        return self.n_splits\n"
   ]
  },
  {
   "cell_type": "markdown",
   "metadata": {},
   "source": [
    "## Model Selection: Lookback, lookahead and roll-forward periods"
   ]
  },
  {
   "cell_type": "code",
   "execution_count": 9,
   "metadata": {
    "ExecuteTime": {
     "end_time": "2020-06-25T00:13:20.326053Z",
     "start_time": "2020-06-25T00:13:20.277984Z"
    },
    "scrolled": true
   },
   "outputs": [],
   "source": [
    "tickers = data.index.get_level_values('ticker').unique()"
   ]
  },
  {
   "cell_type": "code",
   "execution_count": 10,
   "metadata": {
    "ExecuteTime": {
     "end_time": "2020-06-25T00:13:26.062859Z",
     "start_time": "2020-06-25T00:13:25.843062Z"
    }
   },
   "outputs": [],
   "source": [
    "dates = data.index.get_level_values('date')\n",
    "data['year'] = dates.year\n",
    "data['month'] = dates.month\n",
    "data['weekday'] = dates.weekday"
   ]
  },
  {
   "cell_type": "code",
   "execution_count": 37,
   "metadata": {
    "ExecuteTime": {
     "end_time": "2020-06-25T00:19:35.839246Z",
     "start_time": "2020-06-25T00:19:35.836587Z"
    }
   },
   "outputs": [],
   "source": [
    "target = 'ret_fwd'\n",
    "features = data.columns.drop(target).tolist()"
   ]
  },
  {
   "cell_type": "code",
   "execution_count": 38,
   "metadata": {
    "ExecuteTime": {
     "end_time": "2020-06-25T00:19:37.351203Z",
     "start_time": "2020-06-25T00:19:37.349395Z"
    }
   },
   "outputs": [],
   "source": [
    "categoricals = ['year', 'month', 'weekday']"
   ]
  },
  {
   "cell_type": "code",
   "execution_count": 44,
   "metadata": {
    "ExecuteTime": {
     "end_time": "2020-06-25T00:20:47.582111Z",
     "start_time": "2020-06-25T00:20:47.579894Z"
    },
    "scrolled": true
   },
   "outputs": [],
   "source": [
    "train_length = 3 * 252\n",
    "test_length = 3 * 21"
   ]
  },
  {
   "cell_type": "code",
   "execution_count": 45,
   "metadata": {
    "ExecuteTime": {
     "end_time": "2020-06-25T00:20:47.938524Z",
     "start_time": "2020-06-25T00:20:47.934628Z"
    }
   },
   "outputs": [],
   "source": [
    "lookahead = 1"
   ]
  },
  {
   "cell_type": "markdown",
   "metadata": {},
   "source": [
    "## Baseline: Linear Regression"
   ]
  },
  {
   "cell_type": "code",
   "execution_count": 46,
   "metadata": {
    "ExecuteTime": {
     "end_time": "2020-06-25T00:20:48.568332Z",
     "start_time": "2020-06-25T00:20:48.561141Z"
    },
    "scrolled": true
   },
   "outputs": [],
   "source": [
    "lr = LinearRegression()"
   ]
  },
  {
   "cell_type": "code",
   "execution_count": 49,
   "metadata": {
    "ExecuteTime": {
     "end_time": "2020-06-25T00:23:13.249443Z",
     "start_time": "2020-06-25T00:23:00.705051Z"
    },
    "scrolled": false
   },
   "outputs": [],
   "source": [
    "df = pd.get_dummies(data.loc[:, features + [target]].dropna(), \n",
    "                    columns=categoricals, \n",
    "                    drop_first=True)\n",
    "X, y = df.drop(target, axis=1), df[target]\n",
    "\n",
    "n_splits = int(2 * YEAR / test_length)\n",
    "cv = MultipleTimeSeriesCV(n_splits=n_splits,\n",
    "                          test_period_length=test_length,\n",
    "                          lookahead=lookahead,\n",
    "                          train_period_length=train_length)\n",
    "\n",
    "ic, preds = [], []\n",
    "for i, (train_idx, test_idx) in enumerate(cv.split(X=X)):\n",
    "    X_train, y_train = X.iloc[train_idx], y.iloc[train_idx]\n",
    "    X_test, y_test = X.iloc[test_idx], y.iloc[test_idx]\n",
    "    lr.fit(X_train, y_train)\n",
    "    y_pred = lr.predict(X_test)\n",
    "    preds.append(y_test.to_frame('y_true').assign(y_pred=y_pred))\n",
    "    ic.append(spearmanr(y_test, y_pred)[0])\n",
    "preds = pd.concat(preds)"
   ]
  },
  {
   "cell_type": "code",
   "execution_count": 50,
   "metadata": {
    "ExecuteTime": {
     "end_time": "2020-06-25T00:23:13.305540Z",
     "start_time": "2020-06-25T00:23:13.251213Z"
    }
   },
   "outputs": [
    {
     "data": {
      "text/plain": [
       "0.007516228996712189"
      ]
     },
     "execution_count": 50,
     "metadata": {},
     "output_type": "execute_result"
    }
   ],
   "source": [
    "spearmanr(preds.y_true, preds.y_pred)[0]"
   ]
  },
  {
   "cell_type": "code",
   "execution_count": 54,
   "metadata": {
    "ExecuteTime": {
     "end_time": "2020-06-25T00:23:45.876028Z",
     "start_time": "2020-06-25T00:23:45.721640Z"
    }
   },
   "outputs": [
    {
     "data": {
      "image/png": "[encoded data removed]",
      "text/plain": [
       "<Figure size 432x288 with 1 Axes>"
      ]
     },
     "metadata": {},
     "output_type": "display_data"
    }
   ],
   "source": [
    "with sns.axes_style('white'):\n",
    "    sns.boxplot(ic)\n",
    "    sns.despine();"
   ]
  },
  {
   "cell_type": "code",
   "execution_count": 17,
   "metadata": {
    "ExecuteTime": {
     "end_time": "2020-06-21T03:19:37.897475Z",
     "start_time": "2020-06-21T03:19:37.680445Z"
    }
   },
   "outputs": [
    {
     "data": {
      "image/png": "[encoded data removed]",
      "text/plain": [
       "<Figure size 1008x360 with 2 Axes>"
      ]
     },
     "metadata": {},
     "output_type": "display_data"
    }
   ],
   "source": [
    "fig, axes = plt.subplots(ncols=2, figsize=(14, 5), sharey=True)\n",
    "sns.boxplot(x='lookahead', y='ic_by_day', data=lr_metrics, ax=axes[0])\n",
    "axes[0].set_title('IC by Day')\n",
    "sns.boxplot(x='lookahead', y='ic', data=lr_metrics, ax=axes[1])\n",
    "axes[1].set_title('IC Overall')\n",
    "axes[0].set_ylabel('Information Coefficient')\n",
    "axes[1].set_ylabel('')\n",
    "fig.tight_layout()"
   ]
  },
  {
   "cell_type": "markdown",
   "metadata": {},
   "source": [
    "## LightGBM Model Tuning"
   ]
  },
  {
   "cell_type": "code",
   "execution_count": 55,
   "metadata": {
    "ExecuteTime": {
     "end_time": "2020-06-25T00:24:27.122903Z",
     "start_time": "2020-06-25T00:24:27.109678Z"
    }
   },
   "outputs": [],
   "source": [
    "def get_fi(model):\n",
    "    fi = model.feature_importance(importance_type='gain')\n",
    "    return (pd.Series(fi / fi.sum(),\n",
    "                      index=model.feature_name()))"
   ]
  },
  {
   "cell_type": "markdown",
   "metadata": {},
   "source": [
    "### Hyperparameter Options"
   ]
  },
  {
   "cell_type": "code",
   "execution_count": 56,
   "metadata": {
    "ExecuteTime": {
     "end_time": "2020-06-25T00:24:27.865539Z",
     "start_time": "2020-06-25T00:24:27.858250Z"
    },
    "scrolled": true
   },
   "outputs": [],
   "source": [
    "base_params = dict(boosting='gbdt',\n",
    "                   objective='regression',\n",
    "                   verbose=-1)"
   ]
  },
  {
   "cell_type": "code",
   "execution_count": 57,
   "metadata": {
    "ExecuteTime": {
     "end_time": "2020-06-25T00:24:41.856050Z",
     "start_time": "2020-06-25T00:24:41.853704Z"
    },
    "scrolled": true
   },
   "outputs": [],
   "source": [
    "learning_rate_ops = [.01, .1, .3]\n",
    "max_depths = [2, 3, 5, 7]\n",
    "num_leaves_opts = [2 ** i for i in max_depths]\n",
    "feature_fraction_opts = [.3, .6, .95]\n",
    "min_data_in_leaf_opts = [250, 500, 1000]"
   ]
  },
  {
   "cell_type": "code",
   "execution_count": 58,
   "metadata": {
    "ExecuteTime": {
     "end_time": "2020-06-25T00:24:42.058618Z",
     "start_time": "2020-06-25T00:24:42.055321Z"
    }
   },
   "outputs": [],
   "source": [
    "param_names = ['learning_rate', 'num_leaves',\n",
    "               'feature_fraction', 'min_data_in_leaf']"
   ]
  },
  {
   "cell_type": "code",
   "execution_count": 59,
   "metadata": {
    "ExecuteTime": {
     "end_time": "2020-06-25T00:24:42.310409Z",
     "start_time": "2020-06-25T00:24:42.304714Z"
    },
    "scrolled": true
   },
   "outputs": [
    {
     "name": "stdout",
     "output_type": "stream",
     "text": [
      "# Parameters: 108\n"
     ]
    }
   ],
   "source": [
    "cv_params = list(product(learning_rate_ops,\n",
    "                         num_leaves_opts,\n",
    "                         feature_fraction_opts,\n",
    "                         min_data_in_leaf_opts))\n",
    "n_params = len(cv_params)\n",
    "print(f'# Parameters: {n_params}')"
   ]
  },
  {
   "cell_type": "markdown",
   "metadata": {},
   "source": [
    "### Train/Test Period Lengths"
   ]
  },
  {
   "cell_type": "code",
   "execution_count": 60,
   "metadata": {
    "ExecuteTime": {
     "end_time": "2020-06-25T00:24:58.989056Z",
     "start_time": "2020-06-25T00:24:58.982372Z"
    },
    "scrolled": true
   },
   "outputs": [],
   "source": [
    "train_length = 3 * 252\n",
    "test_lengths = 63"
   ]
  },
  {
   "cell_type": "markdown",
   "metadata": {},
   "source": [
    "### Categorical Variables"
   ]
  },
  {
   "cell_type": "code",
   "execution_count": 61,
   "metadata": {
    "ExecuteTime": {
     "end_time": "2020-06-25T00:25:26.233235Z",
     "start_time": "2020-06-25T00:25:26.205395Z"
    },
    "scrolled": true
   },
   "outputs": [],
   "source": [
    "for feature in categoricals:\n",
    "    data[feature] = pd.factorize(data[feature], sort=True)[0]"
   ]
  },
  {
   "cell_type": "markdown",
   "metadata": {},
   "source": [
    "### Custom Loss Function: Information Coefficient"
   ]
  },
  {
   "cell_type": "code",
   "execution_count": 62,
   "metadata": {
    "ExecuteTime": {
     "end_time": "2020-06-25T00:25:29.532821Z",
     "start_time": "2020-06-25T00:25:29.524946Z"
    }
   },
   "outputs": [],
   "source": [
    "def ic_lgbm(preds, train_data):\n",
    "    \"\"\"Custom IC eval metric for lightgbm\"\"\"\n",
    "    is_higher_better = True\n",
    "    return 'ic', spearmanr(preds, train_data.get_label())[0], is_higher_better"
   ]
  },
  {
   "cell_type": "markdown",
   "metadata": {},
   "source": [
    "### Run Cross-Validation"
   ]
  },
  {
   "cell_type": "code",
   "execution_count": 78,
   "metadata": {
    "ExecuteTime": {
     "end_time": "2020-06-25T00:40:28.690963Z",
     "start_time": "2020-06-25T00:40:28.681774Z"
    },
    "scrolled": true
   },
   "outputs": [],
   "source": [
    "num_iterations = [10, 25, 50, 75] + list(range(100, 501, 50)) + [750, 1000] + [1500, 2000, 2500]\n",
    "num_boost_round = num_iterations[-1]"
   ]
  },
  {
   "cell_type": "code",
   "execution_count": 79,
   "metadata": {
    "ExecuteTime": {
     "end_time": "2020-06-25T00:40:29.288264Z",
     "start_time": "2020-06-25T00:40:29.280887Z"
    },
    "scrolled": true
   },
   "outputs": [],
   "source": [
    "metric_cols = (param_names + ['t', 'daily_ic_mean', 'daily_ic_mean_n',\n",
    "                              'daily_ic_median', 'daily_ic_median_n'] +\n",
    "               [str(n) for n in num_iterations])"
   ]
  },
  {
   "cell_type": "code",
   "execution_count": 80,
   "metadata": {
    "ExecuteTime": {
     "end_time": "2020-06-25T00:40:29.642663Z",
     "start_time": "2020-06-25T00:40:29.638523Z"
    }
   },
   "outputs": [],
   "source": [
    "lgb_store = 'lgb_tuning.h5'"
   ]
  },
  {
   "cell_type": "markdown",
   "metadata": {},
   "source": [
    "### AlphaLens Analysis"
   ]
  },
  {
   "cell_type": "markdown",
   "metadata": {},
   "source": [
    "#### Prepare Factor Data"
   ]
  },
  {
   "cell_type": "code",
   "execution_count": null,
   "metadata": {
    "ExecuteTime": {
     "end_time": "2020-06-21T11:56:42.012516Z",
     "start_time": "2020-06-21T03:18:43.955Z"
    },
    "scrolled": false
   },
   "outputs": [],
   "source": [
    "t = 1\n",
    "idx = pd.IndexSlice\n",
    "factor = (pd.read_hdf(results_path / 'predictions.h5', f'lgb/test/{t:02}')\n",
    "          .drop('y_test', axis=1)\n",
    "          .iloc[:, :5]\n",
    "          .mean(1)\n",
    "          .sort_index()\n",
    "          .dropna()\n",
    "          .tz_localize('UTC', level='date')\n",
    "          .swaplevel())"
   ]
  },
  {
   "cell_type": "code",
   "execution_count": null,
   "metadata": {
    "ExecuteTime": {
     "end_time": "2020-06-21T11:56:42.013173Z",
     "start_time": "2020-06-21T03:18:44.144Z"
    }
   },
   "outputs": [],
   "source": [
    "dates = factor.index.get_level_values('date')\n",
    "dates.min(), dates.max()"
   ]
  },
  {
   "cell_type": "code",
   "execution_count": null,
   "metadata": {
    "ExecuteTime": {
     "end_time": "2020-06-21T11:56:42.013972Z",
     "start_time": "2020-06-21T03:18:44.327Z"
    }
   },
   "outputs": [],
   "source": [
    "factor.head()"
   ]
  },
  {
   "cell_type": "markdown",
   "metadata": {},
   "source": [
    "#### Select next available trade prices"
   ]
  },
  {
   "cell_type": "markdown",
   "metadata": {},
   "source": [
    "Using next available prices."
   ]
  },
  {
   "cell_type": "code",
   "execution_count": null,
   "metadata": {
    "ExecuteTime": {
     "end_time": "2020-06-21T11:56:42.014582Z",
     "start_time": "2020-06-21T03:18:47.196Z"
    }
   },
   "outputs": [],
   "source": [
    "tickers = factor.index.get_level_values('symbol').unique()"
   ]
  },
  {
   "cell_type": "code",
   "execution_count": null,
   "metadata": {
    "ExecuteTime": {
     "end_time": "2020-06-21T11:56:42.015187Z",
     "start_time": "2020-06-21T03:18:47.366Z"
    },
    "scrolled": true
   },
   "outputs": [],
   "source": [
    "trade_prices = get_trade_prices(tickers)\n",
    "trade_prices.info()"
   ]
  },
  {
   "cell_type": "markdown",
   "metadata": {},
   "source": [
    "#### Get AlphaLens Inputs"
   ]
  },
  {
   "cell_type": "code",
   "execution_count": null,
   "metadata": {
    "ExecuteTime": {
     "end_time": "2020-06-21T11:56:42.015831Z",
     "start_time": "2020-06-21T03:18:47.670Z"
    },
    "scrolled": false
   },
   "outputs": [],
   "source": [
    "factor_data = get_clean_factor_and_forward_returns(factor=factor,\n",
    "                                                   prices=trade_prices,\n",
    "                                                   quantiles=5,\n",
    "                                                   periods=(1, 5, 10, 21))\n",
    "factor_data.sort_index().info()"
   ]
  },
  {
   "cell_type": "markdown",
   "metadata": {},
   "source": [
    "#### Summary Tearsheet"
   ]
  },
  {
   "cell_type": "code",
   "execution_count": null,
   "metadata": {
    "ExecuteTime": {
     "end_time": "2020-06-21T11:56:42.016495Z",
     "start_time": "2020-06-21T03:18:48.171Z"
    },
    "scrolled": false
   },
   "outputs": [],
   "source": [
    "create_summary_tear_sheet(factor_data)"
   ]
  },
  {
   "cell_type": "markdown",
   "metadata": {},
   "source": [
    "#### Full Tearsheet"
   ]
  },
  {
   "cell_type": "code",
   "execution_count": null,
   "metadata": {
    "ExecuteTime": {
     "end_time": "2020-06-21T11:56:42.017180Z",
     "start_time": "2020-06-21T03:18:48.873Z"
    },
    "scrolled": true
   },
   "outputs": [],
   "source": [
    "create_full_tear_sheet(factor_data,\n",
    "                       long_short=True, \n",
    "                       group_neutral=False, \n",
    "                       by_group=True)"
   ]
  },
  {
   "cell_type": "code",
   "execution_count": null,
   "metadata": {
    "ExecuteTime": {
     "start_time": "2020-06-25T00:40:34.889Z"
    },
    "scrolled": false
   },
   "outputs": [
    {
     "name": "stdout",
     "output_type": "stream",
     "text": [
      "Train: 756 | Test: 63 | Params:  27\n",
      "  0 | 00:03:08 (188) |  0.10 |   8 | 95% |  500 |  29.03% |  8.22% |  2500 |  6.93% |  2500\n"
     ]
    }
   ],
   "source": [
    "cvp = np.random.choice(list(range(n_params)),\n",
    "                       size=int(n_params / 4),\n",
    "                       replace=False)\n",
    "cv_params_ = [cv_params[i] for i in cvp]\n",
    "\n",
    "n_splits = int(2 * YEAR / test_length)\n",
    "print(f'Train: {train_length:3.0f} | '\n",
    "      f'Test: {test_length:2.0f} | '\n",
    "      f'Params: {len(cv_params_):3.0f}')\n",
    "\n",
    "cv = MultipleTimeSeriesCV(n_splits=n_splits,\n",
    "                          lookahead=lookahead,\n",
    "                          test_period_length=test_length,\n",
    "                          train_period_length=train_length)\n",
    "\n",
    "outcome_data = data.loc[:, features + [target]].dropna()\n",
    "lgb_data = lgb.Dataset(data=data.drop(target, axis=1),\n",
    "                       label=data[target],\n",
    "                       categorical_feature=categoricals,\n",
    "                       free_raw_data=False)\n",
    "T = 0\n",
    "predictions, metrics, daily_ic = [], [], []\n",
    "for p, param_vals in enumerate(cv_params_):\n",
    "    key = f'{train_length}/{test_length}/' + '/'.join([str(p) for p in param_vals])\n",
    "    params = dict(zip(param_names, param_vals))\n",
    "    params.update(base_params)\n",
    "\n",
    "    start = time()\n",
    "    cv_preds, nrounds = [], []\n",
    "    ic_cv = defaultdict(list)\n",
    "    for i, (train_idx, test_idx) in enumerate(cv.split(X=outcome_data)):\n",
    "        lgb_train = lgb_data.subset(train_idx.tolist()).construct()\n",
    "        model = lgb.train(params=params,\n",
    "                          train_set=lgb_train,\n",
    "                          num_boost_round=num_boost_round,\n",
    "                          verbose_eval=False)\n",
    "        test_set = data.iloc[test_idx, :]\n",
    "        X_test = test_set.loc[:, model.feature_name()]\n",
    "        y_test = test_set.loc[:, target]\n",
    "        y_pred = {str(n): model.predict(X_test, num_iteration=n) for n in num_iterations}\n",
    "        cv_preds.append(y_test.to_frame('y_test').assign(**y_pred).assign(i=i))\n",
    "    cv_preds = pd.concat(cv_preds).assign(**params)\n",
    "    predictions.append(cv_preds)\n",
    "    by_day = cv_preds.groupby(level='date')\n",
    "    ic_by_day = pd.concat([by_day.apply(lambda x: spearmanr(x.y_test, x[str(n)])[0]).to_frame(n)\n",
    "                           for n in num_iterations], axis=1)\n",
    "    daily_ic_mean = ic_by_day.mean()\n",
    "    daily_ic_mean_n = daily_ic_mean.idxmax()\n",
    "    daily_ic_median = ic_by_day.median()\n",
    "    daily_ic_median_n = daily_ic_median.idxmax()\n",
    "\n",
    "    ic = [spearmanr(cv_preds.y_test, cv_preds[str(n)])[0] for n in num_iterations]\n",
    "    t = time() - start\n",
    "    T += t\n",
    "    metrics = pd.Series(list(param_vals) +\n",
    "                        [t, daily_ic_mean.max(), daily_ic_mean_n, daily_ic_median.max(), daily_ic_median_n] + ic,\n",
    "                        index=metric_cols)\n",
    "    msg = f'{p:3.0f} | {format_time(T)} ({t:3.0f}) | {params[\"learning_rate\"]:5.2f} | '\n",
    "    msg += f'{params[\"num_leaves\"]:3.0f} | {params[\"feature_fraction\"]:3.0%} | {params[\"min_data_in_leaf\"]:4.0f} | '\n",
    "    msg += f' {max(ic):6.2%} | {ic_by_day.mean().max(): 6.2%} | {daily_ic_mean_n: 4.0f} | {ic_by_day.median().max(): 6.2%} | {daily_ic_median_n: 4.0f}'\n",
    "    print(msg)\n",
    "\n",
    "    metrics.to_hdf(lgb_store, 'metrics/' + key)\n",
    "    ic_by_day.assign(**params).to_hdf(lgb_store, 'daily_ic/' + key)\n",
    "    cv_preds.to_hdf(lgb_store, 'predictions/' + key)"
   ]
  },
  {
   "cell_type": "markdown",
   "metadata": {},
   "source": [
    "## Generate LightGBM predictions"
   ]
  },
  {
   "cell_type": "markdown",
   "metadata": {},
   "source": [
    "### Model Configuration"
   ]
  },
  {
   "cell_type": "code",
   "execution_count": null,
   "metadata": {
    "ExecuteTime": {
     "end_time": "2020-06-21T11:56:42.009271Z",
     "start_time": "2020-06-21T03:17:33.288Z"
    }
   },
   "outputs": [],
   "source": [
    "base_params = dict(boosting='gbdt',\n",
    "                   objective='regression',\n",
    "                   verbose=-1)\n",
    "\n",
    "categoricals = ['year', 'month', 'sector', 'weekday']"
   ]
  },
  {
   "cell_type": "code",
   "execution_count": null,
   "metadata": {
    "ExecuteTime": {
     "end_time": "2020-06-21T11:56:42.009892Z",
     "start_time": "2020-06-21T03:17:33.576Z"
    }
   },
   "outputs": [],
   "source": [
    "lookahead = 1"
   ]
  },
  {
   "cell_type": "markdown",
   "metadata": {},
   "source": [
    "### Get Data"
   ]
  },
  {
   "cell_type": "code",
   "execution_count": null,
   "metadata": {
    "ExecuteTime": {
     "end_time": "2020-06-21T11:56:42.011175Z",
     "start_time": "2020-06-21T03:18:08.653Z"
    }
   },
   "outputs": [],
   "source": [
    "lgb_data = lgb.Dataset(data=data[features],\n",
    "                       label=data[label],\n",
    "                       categorical_feature=categoricals,\n",
    "                       free_raw_data=False)"
   ]
  },
  {
   "cell_type": "markdown",
   "metadata": {},
   "source": [
    "### Generate predictions"
   ]
  },
  {
   "cell_type": "code",
   "execution_count": null,
   "metadata": {
    "ExecuteTime": {
     "end_time": "2020-06-21T11:56:42.011891Z",
     "start_time": "2020-06-21T03:18:36.281Z"
    },
    "scrolled": false
   },
   "outputs": [],
   "source": [
    "for position in range(10):\n",
    "    params = get_params(daily_ic_avg,\n",
    "                    t=lookahead,\n",
    "                    best=position)\n",
    "    \n",
    "    params = params.to_dict()\n",
    "    \n",
    "    for p in ['min_data_in_leaf', 'num_leaves']:\n",
    "        params[p] = int(params[p])\n",
    "    train_length = int(params.pop('train_length'))\n",
    "    test_length = int(params.pop('test_length'))\n",
    "    num_boost_round = int(params.pop('boost_rounds'))\n",
    "    params.update(base_params)\n",
    "\n",
    "    print(f'\\nPosition: {position:02}')\n",
    "\n",
    "    n_splits = int(1 * YEAR / test_length)\n",
    "    cv = MultipleTimeSeriesCV(n_splits=n_splits,\n",
    "                              test_period_length=test_length,\n",
    "                              lookahead=lookahead,\n",
    "                              train_period_length=train_length)\n",
    "\n",
    "    predictions = []\n",
    "    start = time()\n",
    "    for i, (train_idx, test_idx) in enumerate(cv.split(X=data), 1):\n",
    "        print(i, end=' ', flush=True)\n",
    "        lgb_train = lgb_data.subset(train_idx.tolist()).construct()\n",
    "\n",
    "        model = lgb.train(params=params,\n",
    "                          train_set=lgb_train,\n",
    "                          num_boost_round=num_boost_round,\n",
    "                          verbose_eval=False)\n",
    "\n",
    "        test_set = data.iloc[test_idx, :]\n",
    "        y_test = test_set.loc[:, label].to_frame('y_test')\n",
    "        y_pred = model.predict(test_set.loc[:, model.feature_name()])\n",
    "        predictions.append(y_test.assign(prediction=y_pred))\n",
    "\n",
    "    if position == 0:\n",
    "        test_predictions = (pd.concat(predictions)\n",
    "                            .rename(columns={'prediction': position}))\n",
    "    else:\n",
    "        test_predictions[position] = pd.concat(predictions).prediction\n",
    "\n",
    "by_day = test_predictions.groupby(level='date')\n",
    "for position in range(10):\n",
    "    if position == 0:\n",
    "        ic_by_day = by_day.apply(lambda x: spearmanr(x.y_test, x[position])[0]).to_frame()\n",
    "    else:\n",
    "        ic_by_day[position] = by_day.apply(lambda x: spearmanr(x.y_test, x[position])[0])\n",
    "print(ic_by_day.describe())\n",
    "ic_by_day.to_csv(f'ic_by_day_{lookahead:02}.csv')\n",
    "\n",
    "test_predictions.to_hdf(results_path / 'predictions.h5', f'lgb/test/{lookahead:02}')"
   ]
  },
  {
   "cell_type": "markdown",
   "metadata": {},
   "source": [
    "### AlphaLens Analysis"
   ]
  },
  {
   "cell_type": "markdown",
   "metadata": {},
   "source": [
    "#### Prepare Factor Data"
   ]
  },
  {
   "cell_type": "code",
   "execution_count": null,
   "metadata": {
    "ExecuteTime": {
     "end_time": "2020-06-21T11:56:42.012516Z",
     "start_time": "2020-06-21T03:18:43.955Z"
    },
    "scrolled": false
   },
   "outputs": [],
   "source": [
    "t = 1\n",
    "idx = pd.IndexSlice\n",
    "factor = (pd.read_hdf(results_path / 'predictions.h5', f'lgb/test/{t:02}')\n",
    "          .drop('y_test', axis=1)\n",
    "          .iloc[:, :5]\n",
    "          .mean(1)\n",
    "          .sort_index()\n",
    "          .dropna()\n",
    "          .tz_localize('UTC', level='date')\n",
    "          .swaplevel())"
   ]
  },
  {
   "cell_type": "code",
   "execution_count": null,
   "metadata": {
    "ExecuteTime": {
     "end_time": "2020-06-21T11:56:42.013173Z",
     "start_time": "2020-06-21T03:18:44.144Z"
    }
   },
   "outputs": [],
   "source": [
    "dates = factor.index.get_level_values('date')\n",
    "dates.min(), dates.max()"
   ]
  },
  {
   "cell_type": "code",
   "execution_count": null,
   "metadata": {
    "ExecuteTime": {
     "end_time": "2020-06-21T11:56:42.013972Z",
     "start_time": "2020-06-21T03:18:44.327Z"
    }
   },
   "outputs": [],
   "source": [
    "factor.head()"
   ]
  },
  {
   "cell_type": "markdown",
   "metadata": {},
   "source": [
    "#### Select next available trade prices"
   ]
  },
  {
   "cell_type": "markdown",
   "metadata": {},
   "source": [
    "Using next available prices."
   ]
  },
  {
   "cell_type": "code",
   "execution_count": null,
   "metadata": {
    "ExecuteTime": {
     "end_time": "2020-06-21T11:56:42.014582Z",
     "start_time": "2020-06-21T03:18:47.196Z"
    }
   },
   "outputs": [],
   "source": [
    "tickers = factor.index.get_level_values('symbol').unique()"
   ]
  },
  {
   "cell_type": "code",
   "execution_count": null,
   "metadata": {
    "ExecuteTime": {
     "end_time": "2020-06-21T11:56:42.015187Z",
     "start_time": "2020-06-21T03:18:47.366Z"
    },
    "scrolled": true
   },
   "outputs": [],
   "source": [
    "trade_prices = get_trade_prices(tickers)\n",
    "trade_prices.info()"
   ]
  },
  {
   "cell_type": "markdown",
   "metadata": {},
   "source": [
    "#### Get AlphaLens Inputs"
   ]
  },
  {
   "cell_type": "code",
   "execution_count": null,
   "metadata": {
    "ExecuteTime": {
     "end_time": "2020-06-21T11:56:42.015831Z",
     "start_time": "2020-06-21T03:18:47.670Z"
    },
    "scrolled": false
   },
   "outputs": [],
   "source": [
    "factor_data = get_clean_factor_and_forward_returns(factor=factor,\n",
    "                                                   prices=trade_prices,\n",
    "                                                   quantiles=5,\n",
    "                                                   periods=(1, 5, 10, 21))\n",
    "factor_data.sort_index().info()"
   ]
  },
  {
   "cell_type": "markdown",
   "metadata": {},
   "source": [
    "#### Summary Tearsheet"
   ]
  },
  {
   "cell_type": "code",
   "execution_count": null,
   "metadata": {
    "ExecuteTime": {
     "end_time": "2020-06-21T11:56:42.016495Z",
     "start_time": "2020-06-21T03:18:48.171Z"
    },
    "scrolled": false
   },
   "outputs": [],
   "source": [
    "create_summary_tear_sheet(factor_data)"
   ]
  },
  {
   "cell_type": "markdown",
   "metadata": {},
   "source": [
    "#### Full Tearsheet"
   ]
  },
  {
   "cell_type": "code",
   "execution_count": null,
   "metadata": {
    "ExecuteTime": {
     "end_time": "2020-06-21T11:56:42.017180Z",
     "start_time": "2020-06-21T03:18:48.873Z"
    },
    "scrolled": true
   },
   "outputs": [],
   "source": [
    "create_full_tear_sheet(factor_data,\n",
    "                       long_short=True, \n",
    "                       group_neutral=False, \n",
    "                       by_group=True)"
   ]
  },
  {
   "cell_type": "code",
   "execution_count": null,
   "metadata": {},
   "outputs": [],
   "source": []
  }
 ],
 "metadata": {
  "kernelspec": {
   "display_name": "Python 3",
   "language": "python",
   "name": "python3"
  },
  "language_info": {
   "codemirror_mode": {
    "name": "ipython",
    "version": 3
   },
   "file_extension": ".py",
   "mimetype": "text/x-python",
   "name": "python",
   "nbconvert_exporter": "python",
   "pygments_lexer": "ipython3",
   "version": "3.7.7"
  },
  "toc": {
   "base_numbering": 1,
   "nav_menu": {},
   "number_sections": true,
   "sideBar": true,
   "skip_h1_title": true,
   "title_cell": "Table of Contents",
   "title_sidebar": "Contents",
   "toc_cell": false,
   "toc_position": {
    "height": "calc(100% - 180px)",
    "left": "10px",
    "top": "150px",
    "width": "292.016px"
   },
   "toc_section_display": true,
   "toc_window_display": true
  }
 },
 "nbformat": 4,
 "nbformat_minor": 2
}
