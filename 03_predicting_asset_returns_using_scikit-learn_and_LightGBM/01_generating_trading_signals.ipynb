{
 "cells": [
  {
   "cell_type": "markdown",
   "metadata": {},
   "source": [
    "# Generating trading signals with LightGBM and CatBoost"
   ]
  },
  {
   "cell_type": "markdown",
   "metadata": {},
   "source": [
    "## Imports & Settings"
   ]
  },
  {
   "cell_type": "code",
   "execution_count": 1,
   "metadata": {
    "ExecuteTime": {
     "end_time": "2020-06-26T16:44:49.724599Z",
     "start_time": "2020-06-26T16:44:49.721415Z"
    }
   },
   "outputs": [],
   "source": [
    "import warnings\n",
    "warnings.filterwarnings('ignore')"
   ]
  },
  {
   "cell_type": "code",
   "execution_count": 2,
   "metadata": {
    "ExecuteTime": {
     "end_time": "2020-06-26T16:44:50.436994Z",
     "start_time": "2020-06-26T16:44:49.726454Z"
    },
    "scrolled": true
   },
   "outputs": [],
   "source": [
    "%matplotlib inline\n",
    "\n",
    "from pathlib import Path\n",
    "import sys, os\n",
    "from time import time\n",
    "from collections import defaultdict\n",
    "from itertools import product\n",
    "\n",
    "import numpy as np\n",
    "import pandas as pd\n",
    "import statsmodels.api as sm\n",
    "\n",
    "import lightgbm as lgb\n",
    "\n",
    "from sklearn.linear_model import LinearRegression, Ridge, Lasso\n",
    "from scipy.stats import spearmanr\n",
    "\n",
    "from alphalens.tears import (create_summary_tear_sheet,\n",
    "                             create_full_tear_sheet)\n",
    "\n",
    "from alphalens.utils import get_clean_factor_and_forward_returns\n",
    "\n",
    "import matplotlib.pyplot as plt\n",
    "import seaborn as sns"
   ]
  },
  {
   "cell_type": "code",
   "execution_count": 3,
   "metadata": {
    "ExecuteTime": {
     "end_time": "2020-06-26T16:44:50.441766Z",
     "start_time": "2020-06-26T16:44:50.439852Z"
    },
    "scrolled": true
   },
   "outputs": [],
   "source": [
    "sns.set_style('whitegrid')"
   ]
  },
  {
   "cell_type": "code",
   "execution_count": 4,
   "metadata": {},
   "outputs": [],
   "source": [
    "idx = pd.IndexSlice"
   ]
  },
  {
   "cell_type": "code",
   "execution_count": 5,
   "metadata": {
    "ExecuteTime": {
     "end_time": "2020-06-26T16:44:50.488892Z",
     "start_time": "2020-06-26T16:44:50.486645Z"
    },
    "scrolled": true
   },
   "outputs": [],
   "source": [
    "YEAR = 252 # days\n",
    "MONTH = 21 # days"
   ]
  },
  {
   "cell_type": "code",
   "execution_count": 6,
   "metadata": {
    "ExecuteTime": {
     "end_time": "2020-06-26T16:44:50.903472Z",
     "start_time": "2020-06-26T16:44:50.898856Z"
    }
   },
   "outputs": [],
   "source": [
    "def format_time(t):\n",
    "    \"\"\"Return a formatted time string 'HH:MM:SS\n",
    "    based on a numeric time() value\"\"\"\n",
    "    m, s = divmod(t, 60)\n",
    "    h, m = divmod(m, 60)\n",
    "    return f'{h:0>2.0f}:{m:0>2.0f}:{s:0>2.0f}'"
   ]
  },
  {
   "cell_type": "markdown",
   "metadata": {},
   "source": [
    "## Get Data"
   ]
  },
  {
   "cell_type": "code",
   "execution_count": 7,
   "metadata": {
    "ExecuteTime": {
     "end_time": "2020-06-26T16:44:53.085046Z",
     "start_time": "2020-06-26T16:44:53.076718Z"
    }
   },
   "outputs": [],
   "source": [
    "DATA_PATH = Path('..', 'data')"
   ]
  },
  {
   "cell_type": "code",
   "execution_count": 8,
   "metadata": {
    "ExecuteTime": {
     "end_time": "2020-06-26T16:44:55.521318Z",
     "start_time": "2020-06-26T16:44:54.101228Z"
    },
    "scrolled": false
   },
   "outputs": [
    {
     "name": "stdout",
     "output_type": "stream",
     "text": [
      "<class 'pandas.core.frame.DataFrame'>\n",
      "MultiIndex: 1247456 entries, ('A', Timestamp('2007-01-04 00:00:00')) to ('ZMH', Timestamp('2015-06-25 00:00:00'))\n",
      "Data columns (total 52 columns):\n",
      " #   Column       Non-Null Count    Dtype  \n",
      "---  ------       --------------    -----  \n",
      " 0   ret_01       1246956 non-null  float64\n",
      " 1   ret_03       1245956 non-null  float64\n",
      " 2   ret_05       1244956 non-null  float64\n",
      " 3   ret_10       1242456 non-null  float64\n",
      " 4   ret_21       1236956 non-null  float64\n",
      " 5   ret_42       1226456 non-null  float64\n",
      " 6   ret_63       1215956 non-null  float64\n",
      " 7   ret_126      1184456 non-null  float64\n",
      " 8   ret_252      1121456 non-null  float64\n",
      " 9   ret_fwd      1247456 non-null  float64\n",
      " 10  BB_UP        1237956 non-null  float64\n",
      " 11  BB_LOW       1237956 non-null  float64\n",
      " 12  BB_SQUEEZE   1237956 non-null  float64\n",
      " 13  HT           1215956 non-null  float64\n",
      " 14  SAR          1246956 non-null  float64\n",
      " 15  ADX          1233956 non-null  float64\n",
      " 16  ADXR         1227456 non-null  float64\n",
      " 17  PPO          1234956 non-null  float64\n",
      " 18  AARONOSC     1240456 non-null  float64\n",
      " 19  BOP          1247456 non-null  float64\n",
      " 20  CCI          1240956 non-null  float64\n",
      " 21  MACD         1230956 non-null  float64\n",
      " 22  MACD_SIGNAL  1230956 non-null  float64\n",
      " 23  MACD_HIST    1230956 non-null  float64\n",
      " 24  MFI          1240456 non-null  float64\n",
      " 25  RSI          1240456 non-null  float64\n",
      " 26  STOCHRSI     1232956 non-null  float64\n",
      " 27  STOCH        1238949 non-null  float64\n",
      " 28  ULTOSC       1233456 non-null  float64\n",
      " 29  WILLR        1240956 non-null  float64\n",
      " 30  AD           1247456 non-null  float64\n",
      " 31  ADOSC        1240940 non-null  float64\n",
      " 32  OBV          1247456 non-null  float64\n",
      " 33  ATR          1240456 non-null  float64\n",
      " 34  ALPHA_21     1236956 non-null  float64\n",
      " 35  MARKET_21    1236956 non-null  float64\n",
      " 36  SMB_21       1236956 non-null  float64\n",
      " 37  HML_21       1236956 non-null  float64\n",
      " 38  RMW_21       1236956 non-null  float64\n",
      " 39  CMA_21       1236956 non-null  float64\n",
      " 40  ALPHA_63     1215956 non-null  float64\n",
      " 41  MARKET_63    1215956 non-null  float64\n",
      " 42  SMB_63       1215956 non-null  float64\n",
      " 43  HML_63       1215956 non-null  float64\n",
      " 44  RMW_63       1215956 non-null  float64\n",
      " 45  CMA_63       1215956 non-null  float64\n",
      " 46  ALPHA_252    1121456 non-null  float64\n",
      " 47  MARKET_252   1121456 non-null  float64\n",
      " 48  SMB_252      1121456 non-null  float64\n",
      " 49  HML_252      1121456 non-null  float64\n",
      " 50  RMW_252      1121456 non-null  float64\n",
      " 51  CMA_252      1121456 non-null  float64\n",
      "dtypes: float64(52)\n",
      "memory usage: 499.7+ MB\n"
     ]
    }
   ],
   "source": [
    "data = (pd.read_hdf(DATA_PATH / 'stock_prices.h5', 'model_data')\n",
    "            .sort_index())\n",
    "data.info(null_counts=True)"
   ]
  },
  {
   "cell_type": "markdown",
   "metadata": {},
   "source": [
    "## Custom Time Series Cross-Validation"
   ]
  },
  {
   "cell_type": "code",
   "execution_count": 9,
   "metadata": {
    "ExecuteTime": {
     "end_time": "2020-06-26T16:44:56.442865Z",
     "start_time": "2020-06-26T16:44:56.418091Z"
    }
   },
   "outputs": [],
   "source": [
    "class MultipleTimeSeriesCV:\n",
    "    \"\"\"Generates tuples of train_idx, test_idx pairs\n",
    "    Assumes the MultiIndex contains levels 'symbol' and 'date'\n",
    "    purges overlapping outcomes\"\"\"\n",
    "\n",
    "    def __init__(self,\n",
    "                 n_splits=3,\n",
    "                 train_period_length=126,\n",
    "                 test_period_length=21,\n",
    "                 lookahead=None,\n",
    "                 date_idx='date',\n",
    "                 shuffle=False):\n",
    "        self.n_splits = n_splits\n",
    "        self.lookahead = lookahead\n",
    "        self.test_length = test_period_length\n",
    "        self.train_length = train_period_length\n",
    "        self.shuffle = shuffle\n",
    "        self.date_idx = date_idx\n",
    "\n",
    "    def split(self, X, y=None, groups=None):\n",
    "        unique_dates = X.index.get_level_values(self.date_idx).unique()\n",
    "        days = sorted(unique_dates, reverse=True)\n",
    "        split_idx = []\n",
    "        for i in range(self.n_splits):\n",
    "            test_end_idx = i * self.test_length\n",
    "            test_start_idx = test_end_idx + self.test_length\n",
    "            train_end_idx = test_start_idx + self.lookahead - 1\n",
    "            train_start_idx = train_end_idx + self.train_length + self.lookahead - 1\n",
    "            split_idx.append([train_start_idx, train_end_idx,\n",
    "                              test_start_idx, test_end_idx])\n",
    "\n",
    "        dates = X.reset_index()[[self.date_idx]]\n",
    "        for train_start, train_end, test_start, test_end in split_idx:\n",
    "\n",
    "            train_idx = dates[(dates[self.date_idx] > days[train_start])\n",
    "                              & (dates.date <= days[train_end])].index\n",
    "            test_idx = dates[(dates.date > days[test_start])\n",
    "                             & (dates.date <= days[test_end])].index\n",
    "            if self.shuffle:\n",
    "                np.random.shuffle(list(train_idx))\n",
    "            yield train_idx.to_numpy(), test_idx.to_numpy()\n",
    "\n",
    "    def get_n_splits(self, X, y, groups=None):\n",
    "        return self.n_splits\n"
   ]
  },
  {
   "cell_type": "markdown",
   "metadata": {},
   "source": [
    "## Model Selection: Lookback, lookahead and roll-forward periods"
   ]
  },
  {
   "cell_type": "code",
   "execution_count": 10,
   "metadata": {
    "ExecuteTime": {
     "end_time": "2020-06-26T16:44:58.486327Z",
     "start_time": "2020-06-26T16:44:58.441499Z"
    },
    "scrolled": true
   },
   "outputs": [],
   "source": [
    "tickers = data.index.get_level_values('ticker').unique()"
   ]
  },
  {
   "cell_type": "code",
   "execution_count": 11,
   "metadata": {
    "ExecuteTime": {
     "end_time": "2020-06-26T16:44:58.835308Z",
     "start_time": "2020-06-26T16:44:58.606828Z"
    }
   },
   "outputs": [],
   "source": [
    "dates = data.index.get_level_values('date')\n",
    "data['year'] = dates.year\n",
    "data['month'] = dates.month\n",
    "data['weekday'] = dates.weekday"
   ]
  },
  {
   "cell_type": "code",
   "execution_count": 12,
   "metadata": {
    "ExecuteTime": {
     "end_time": "2020-06-26T16:44:58.838329Z",
     "start_time": "2020-06-26T16:44:58.836358Z"
    }
   },
   "outputs": [],
   "source": [
    "target = 'ret_fwd'\n",
    "features = data.columns.drop(target).tolist()"
   ]
  },
  {
   "cell_type": "code",
   "execution_count": 13,
   "metadata": {
    "ExecuteTime": {
     "end_time": "2020-06-26T16:44:58.937195Z",
     "start_time": "2020-06-26T16:44:58.934462Z"
    }
   },
   "outputs": [],
   "source": [
    "categoricals = ['year', 'month', 'weekday']"
   ]
  },
  {
   "cell_type": "code",
   "execution_count": 14,
   "metadata": {
    "ExecuteTime": {
     "end_time": "2020-06-26T16:44:59.042437Z",
     "start_time": "2020-06-26T16:44:59.040093Z"
    },
    "scrolled": true
   },
   "outputs": [],
   "source": [
    "train_length = 5 * YEAR\n",
    "test_length = 3 * MONTH"
   ]
  },
  {
   "cell_type": "code",
   "execution_count": 15,
   "metadata": {
    "ExecuteTime": {
     "end_time": "2020-06-26T16:44:59.243480Z",
     "start_time": "2020-06-26T16:44:59.239574Z"
    }
   },
   "outputs": [],
   "source": [
    "lookahead = 1"
   ]
  },
  {
   "cell_type": "code",
   "execution_count": 16,
   "metadata": {
    "ExecuteTime": {
     "end_time": "2020-06-26T16:44:59.873790Z",
     "start_time": "2020-06-26T16:44:59.666134Z"
    }
   },
   "outputs": [],
   "source": [
    "cv_data = data.loc[idx[:, :'2015'], :]"
   ]
  },
  {
   "cell_type": "markdown",
   "metadata": {},
   "source": [
    "## Baseline: Linear Regression"
   ]
  },
  {
   "cell_type": "markdown",
   "metadata": {},
   "source": [
    "### One-hot encoding"
   ]
  },
  {
   "cell_type": "code",
   "execution_count": 17,
   "metadata": {},
   "outputs": [],
   "source": [
    "df = pd.get_dummies(cv_data.loc[:, features + [target]].dropna(), \n",
    "                    columns=categoricals, \n",
    "                    drop_first=True)\n",
    "X = df.drop(target, axis=1)\n",
    "y = df[target]"
   ]
  },
  {
   "cell_type": "markdown",
   "metadata": {},
   "source": [
    "### Cross-validation setup"
   ]
  },
  {
   "cell_type": "code",
   "execution_count": 18,
   "metadata": {},
   "outputs": [],
   "source": [
    "n_splits = int(2 * YEAR / test_length)\n",
    "cv = MultipleTimeSeriesCV(n_splits=n_splits,\n",
    "                          test_period_length=test_length,\n",
    "                          lookahead=lookahead,\n",
    "                          train_period_length=train_length)"
   ]
  },
  {
   "cell_type": "markdown",
   "metadata": {},
   "source": [
    "### Run cross-validation"
   ]
  },
  {
   "cell_type": "code",
   "execution_count": 19,
   "metadata": {
    "ExecuteTime": {
     "end_time": "2020-06-26T14:13:12.852950Z",
     "start_time": "2020-06-26T14:13:12.844719Z"
    },
    "scrolled": true
   },
   "outputs": [],
   "source": [
    "lr = LinearRegression()"
   ]
  },
  {
   "cell_type": "code",
   "execution_count": 20,
   "metadata": {
    "ExecuteTime": {
     "end_time": "2020-06-26T14:13:53.799125Z",
     "start_time": "2020-06-26T14:13:32.856589Z"
    },
    "scrolled": false
   },
   "outputs": [],
   "source": [
    "ic, preds = [], []\n",
    "for i, (train_idx, test_idx) in enumerate(cv.split(X=X)):\n",
    "    X_train, y_train = X.iloc[train_idx], y.iloc[train_idx]\n",
    "    X_test, y_test = X.iloc[test_idx], y.iloc[test_idx]\n",
    "    lr.fit(X_train, y_train)\n",
    "    y_pred = lr.predict(X_test)\n",
    "    preds.append(y_test.to_frame('y_true').assign(y_pred=y_pred))\n",
    "    ic.append(spearmanr(y_test, y_pred)[0])\n",
    "preds = pd.concat(preds)"
   ]
  },
  {
   "cell_type": "code",
   "execution_count": 21,
   "metadata": {
    "ExecuteTime": {
     "end_time": "2020-06-26T14:36:34.635343Z",
     "start_time": "2020-06-26T14:36:34.624124Z"
    }
   },
   "outputs": [
    {
     "name": "stdout",
     "output_type": "stream",
     "text": [
      "<class 'pandas.core.frame.DataFrame'>\n",
      "MultiIndex: 250226 entries, ('A', Timestamp('2015-10-02 00:00:00')) to ('ZMH', Timestamp('2014-04-02 00:00:00'))\n",
      "Data columns (total 2 columns):\n",
      " #   Column  Non-Null Count   Dtype  \n",
      "---  ------  --------------   -----  \n",
      " 0   y_true  250226 non-null  float64\n",
      " 1   y_pred  250226 non-null  float64\n",
      "dtypes: float64(2)\n",
      "memory usage: 4.8+ MB\n"
     ]
    }
   ],
   "source": [
    "preds.info()"
   ]
  },
  {
   "cell_type": "code",
   "execution_count": 22,
   "metadata": {
    "ExecuteTime": {
     "end_time": "2020-06-26T16:09:07.770340Z",
     "start_time": "2020-06-26T16:09:07.735562Z"
    }
   },
   "outputs": [],
   "source": [
    "preds.to_hdf(DATA_PATH / 'predictions.h5', 'predictions/lr/train')"
   ]
  },
  {
   "cell_type": "markdown",
   "metadata": {},
   "source": [
    "### Evaluate Predictions using the Information Coefficient"
   ]
  },
  {
   "cell_type": "code",
   "execution_count": 23,
   "metadata": {
    "ExecuteTime": {
     "end_time": "2020-06-26T14:13:53.856345Z",
     "start_time": "2020-06-26T14:13:53.800779Z"
    }
   },
   "outputs": [
    {
     "data": {
      "text/plain": [
       "0.026703172658321648"
      ]
     },
     "execution_count": 23,
     "metadata": {},
     "output_type": "execute_result"
    }
   ],
   "source": [
    "spearmanr(preds.y_true, preds.y_pred)[0]"
   ]
  },
  {
   "cell_type": "code",
   "execution_count": 24,
   "metadata": {
    "ExecuteTime": {
     "end_time": "2020-06-26T14:14:42.967083Z",
     "start_time": "2020-06-26T14:14:42.581584Z"
    }
   },
   "outputs": [],
   "source": [
    "daily_ic_lr = preds.groupby(level='date').apply(lambda x: spearmanr(x.y_true, x.y_pred)[0])"
   ]
  },
  {
   "cell_type": "code",
   "execution_count": 25,
   "metadata": {
    "ExecuteTime": {
     "end_time": "2020-06-26T14:14:51.809658Z",
     "start_time": "2020-06-26T14:14:51.797741Z"
    }
   },
   "outputs": [
    {
     "data": {
      "text/plain": [
       "count    504.000000\n",
       "mean       0.011026\n",
       "std        0.139408\n",
       "min       -0.362028\n",
       "25%       -0.080107\n",
       "50%        0.010327\n",
       "75%        0.088693\n",
       "max        0.442307\n",
       "dtype: float64"
      ]
     },
     "execution_count": 25,
     "metadata": {},
     "output_type": "execute_result"
    }
   ],
   "source": [
    "daily_ic_lr.describe()"
   ]
  },
  {
   "cell_type": "markdown",
   "metadata": {},
   "source": [
    "## Regularized Linear Regression"
   ]
  },
  {
   "cell_type": "code",
   "execution_count": 26,
   "metadata": {
    "ExecuteTime": {
     "end_time": "2020-06-26T18:32:50.822772Z",
     "start_time": "2020-06-26T18:32:50.285272Z"
    }
   },
   "outputs": [],
   "source": [
    "df = pd.get_dummies(cv_data.loc[:, features + [target]].dropna(), \n",
    "                    columns=categoricals, \n",
    "                    drop_first=True)\n",
    "X, y = df.drop(target, axis=1), df[target]"
   ]
  },
  {
   "cell_type": "code",
   "execution_count": 27,
   "metadata": {
    "ExecuteTime": {
     "end_time": "2020-06-26T18:32:52.595962Z",
     "start_time": "2020-06-26T18:32:52.593802Z"
    }
   },
   "outputs": [],
   "source": [
    "n_splits = int(2 * YEAR / test_length)\n",
    "cv = MultipleTimeSeriesCV(n_splits=n_splits,\n",
    "                          test_period_length=test_length,\n",
    "                          lookahead=lookahead,\n",
    "                          train_period_length=train_length)"
   ]
  },
  {
   "cell_type": "code",
   "execution_count": 28,
   "metadata": {
    "ExecuteTime": {
     "end_time": "2020-06-26T18:32:53.495204Z",
     "start_time": "2020-06-26T18:32:53.493114Z"
    }
   },
   "outputs": [],
   "source": [
    "alphas = np.logspace(-15, 15, 31)[::2]"
   ]
  },
  {
   "cell_type": "code",
   "execution_count": 29,
   "metadata": {
    "ExecuteTime": {
     "end_time": "2020-06-26T18:32:53.799654Z",
     "start_time": "2020-06-26T18:32:53.794919Z"
    }
   },
   "outputs": [
    {
     "data": {
      "text/plain": [
       "array([1.e-15, 1.e-13, 1.e-11, 1.e-09, 1.e-07, 1.e-05, 1.e-03, 1.e-01,\n",
       "       1.e+01, 1.e+03, 1.e+05, 1.e+07, 1.e+09, 1.e+11, 1.e+13, 1.e+15])"
      ]
     },
     "execution_count": 29,
     "metadata": {},
     "output_type": "execute_result"
    }
   ],
   "source": [
    "alphas"
   ]
  },
  {
   "cell_type": "markdown",
   "metadata": {},
   "source": [
    "### Ridge Regression"
   ]
  },
  {
   "cell_type": "code",
   "execution_count": 30,
   "metadata": {
    "ExecuteTime": {
     "end_time": "2020-06-26T18:36:18.791612Z",
     "start_time": "2020-06-26T18:33:41.343304Z"
    }
   },
   "outputs": [
    {
     "name": "stdout",
     "output_type": "stream",
     "text": [
      "\n",
      "Fold 0\n",
      "1e-15 1e-13 1e-11 1e-09 1e-07 1e-05 0.001 0.1 10.0 1000.0 100000.0 10000000.0 1000000000.0 100000000000.0 10000000000000.0 1000000000000000.0 \n",
      "Fold 1\n",
      "1e-15 1e-13 1e-11 1e-09 1e-07 1e-05 0.001 0.1 10.0 1000.0 100000.0 10000000.0 1000000000.0 100000000000.0 10000000000000.0 1000000000000000.0 \n",
      "Fold 2\n",
      "1e-15 1e-13 1e-11 1e-09 1e-07 1e-05 0.001 0.1 10.0 1000.0 100000.0 10000000.0 1000000000.0 100000000000.0 10000000000000.0 1000000000000000.0 \n",
      "Fold 3\n",
      "1e-15 1e-13 1e-11 1e-09 1e-07 1e-05 0.001 0.1 10.0 1000.0 100000.0 10000000.0 1000000000.0 100000000000.0 10000000000000.0 1000000000000000.0 \n",
      "Fold 4\n",
      "1e-15 1e-13 1e-11 1e-09 1e-07 1e-05 0.001 0.1 10.0 1000.0 100000.0 10000000.0 1000000000.0 100000000000.0 10000000000000.0 1000000000000000.0 \n",
      "Fold 5\n",
      "1e-15 1e-13 1e-11 1e-09 1e-07 1e-05 0.001 0.1 10.0 1000.0 100000.0 10000000.0 1000000000.0 100000000000.0 10000000000000.0 1000000000000000.0 \n",
      "Fold 6\n",
      "1e-15 1e-13 1e-11 1e-09 1e-07 1e-05 0.001 0.1 10.0 1000.0 100000.0 10000000.0 1000000000.0 100000000000.0 10000000000000.0 1000000000000000.0 \n",
      "Fold 7\n",
      "1e-15 1e-13 1e-11 1e-09 1e-07 1e-05 0.001 0.1 10.0 1000.0 100000.0 10000000.0 1000000000.0 100000000000.0 10000000000000.0 1000000000000000.0 "
     ]
    }
   ],
   "source": [
    "ic, ridge_preds = [], []\n",
    "for i, (train_idx, test_idx) in enumerate(cv.split(X=X)):\n",
    "    print(f'\\nFold {i}')\n",
    "    X_train, y_train = X.iloc[train_idx], y.iloc[train_idx]\n",
    "    X_test, y_test = X.iloc[test_idx], y.iloc[test_idx]\n",
    "    cv_predictions = []\n",
    "    for alpha in alphas:\n",
    "        print(alpha, end=' ', flush=True)\n",
    "        ridge = Ridge(alpha=alpha)\n",
    "        ridge.fit(X_train, y_train)\n",
    "        y_pred = ridge.predict(X_test)\n",
    "        cv_predictions.append(pd.DataFrame({alpha: y_pred},\n",
    "                                           index=y_test.index))\n",
    "    ridge_preds.append(pd.concat(cv_predictions, axis=1).assign(y_test=y_test))\n",
    "ridge_preds = pd.concat(ridge_preds)"
   ]
  },
  {
   "cell_type": "markdown",
   "metadata": {},
   "source": [
    "#### Evaluate Predictions"
   ]
  },
  {
   "cell_type": "code",
   "execution_count": 31,
   "metadata": {
    "ExecuteTime": {
     "end_time": "2020-06-26T18:37:07.011621Z",
     "start_time": "2020-06-26T18:37:01.333944Z"
    }
   },
   "outputs": [],
   "source": [
    "ic_by_day_rg = {}\n",
    "for alpha in alphas:\n",
    "    ic_by_day_rg[alpha] = (ridge_preds.groupby(level='date')\n",
    "                           .apply(lambda x: spearmanr(x[alpha], x.y_test)[0])\n",
    "                           .mean())"
   ]
  },
  {
   "cell_type": "code",
   "execution_count": 32,
   "metadata": {
    "ExecuteTime": {
     "end_time": "2020-06-26T18:37:07.015871Z",
     "start_time": "2020-06-26T18:37:07.012564Z"
    }
   },
   "outputs": [
    {
     "data": {
      "text/plain": [
       "1.000000e-15    0.011010\n",
       "1.000000e-13    0.011010\n",
       "1.000000e-11    0.011010\n",
       "1.000000e-09    0.011010\n",
       "1.000000e-07    0.011010\n",
       "1.000000e-05    0.011010\n",
       "1.000000e-03    0.010999\n",
       "1.000000e-01    0.010147\n",
       "1.000000e+01    0.007978\n",
       "1.000000e+03    0.004499\n",
       "1.000000e+05    0.003247\n",
       "1.000000e+07    0.002256\n",
       "1.000000e+09    0.000063\n",
       "1.000000e+11    0.002798\n",
       "1.000000e+13    0.002911\n",
       "1.000000e+15    0.002913\n",
       "dtype: float64"
      ]
     },
     "execution_count": 32,
     "metadata": {},
     "output_type": "execute_result"
    }
   ],
   "source": [
    "pd.Series(ic_by_day_rg)"
   ]
  },
  {
   "cell_type": "markdown",
   "metadata": {},
   "source": [
    "### Lasso Regression"
   ]
  },
  {
   "cell_type": "code",
   "execution_count": 33,
   "metadata": {
    "ExecuteTime": {
     "end_time": "2020-06-26T18:12:32.913617Z",
     "start_time": "2020-06-26T16:45:19.799206Z"
    }
   },
   "outputs": [
    {
     "name": "stdout",
     "output_type": "stream",
     "text": [
      "\n",
      "Fold 0\n",
      "1e-15 1e-13 1e-11 1e-09 1e-07 1e-05 0.001 0.1 10.0 1000.0 100000.0 10000000.0 1000000000.0 100000000000.0 10000000000000.0 1000000000000000.0 \n",
      "Fold 1\n",
      "1e-15 1e-13 1e-11 1e-09 1e-07 1e-05 0.001 0.1 10.0 1000.0 100000.0 10000000.0 1000000000.0 100000000000.0 10000000000000.0 1000000000000000.0 \n",
      "Fold 2\n",
      "1e-15 1e-13 1e-11 1e-09 1e-07 1e-05 0.001 0.1 10.0 1000.0 100000.0 10000000.0 1000000000.0 100000000000.0 10000000000000.0 1000000000000000.0 \n",
      "Fold 3\n",
      "1e-15 1e-13 1e-11 1e-09 1e-07 1e-05 0.001 0.1 10.0 1000.0 100000.0 10000000.0 1000000000.0 100000000000.0 10000000000000.0 1000000000000000.0 \n",
      "Fold 4\n",
      "1e-15 1e-13 1e-11 1e-09 1e-07 1e-05 0.001 0.1 10.0 1000.0 100000.0 10000000.0 1000000000.0 100000000000.0 10000000000000.0 1000000000000000.0 \n",
      "Fold 5\n",
      "1e-15 1e-13 1e-11 1e-09 1e-07 1e-05 0.001 0.1 10.0 1000.0 100000.0 10000000.0 1000000000.0 100000000000.0 10000000000000.0 1000000000000000.0 \n",
      "Fold 6\n",
      "1e-15 1e-13 1e-11 1e-09 1e-07 1e-05 0.001 0.1 10.0 1000.0 100000.0 10000000.0 1000000000.0 100000000000.0 10000000000000.0 1000000000000000.0 \n",
      "Fold 7\n",
      "1e-15 1e-13 1e-11 1e-09 1e-07 1e-05 0.001 0.1 10.0 1000.0 100000.0 10000000.0 1000000000.0 100000000000.0 10000000000000.0 1000000000000000.0 "
     ]
    }
   ],
   "source": [
    "ic, preds = [], []\n",
    "for i, (train_idx, test_idx) in enumerate(cv.split(X=X)):\n",
    "    print(f'\\nFold {i}')\n",
    "    X_train, y_train = X.iloc[train_idx], y.iloc[train_idx]\n",
    "    X_test, y_test = X.iloc[test_idx], y.iloc[test_idx]\n",
    "    cv_predictions = []\n",
    "    for alpha in alphas:\n",
    "        print(alpha, end=' ', flush=True)\n",
    "        lasso = Lasso(alpha=alpha)\n",
    "        lasso.fit(X_train, y_train)\n",
    "        y_pred = lasso.predict(X_test)\n",
    "        cv_predictions.append(pd.DataFrame({alpha: y_pred},\n",
    "                                           index=y_test.index))\n",
    "    preds.append(pd.concat(cv_predictions, axis=1).assign(y_test=y_test))\n",
    "preds=pd.concat(preds)"
   ]
  },
  {
   "cell_type": "markdown",
   "metadata": {},
   "source": [
    "#### Evaluate Predictions"
   ]
  },
  {
   "cell_type": "code",
   "execution_count": 36,
   "metadata": {
    "ExecuteTime": {
     "end_time": "2020-06-26T18:17:07.793703Z",
     "start_time": "2020-06-26T18:17:03.969450Z"
    }
   },
   "outputs": [],
   "source": [
    "ic_by_day_lasso = {}\n",
    "for alpha in alphas:\n",
    "    ic_by_day_lasso[alpha] = preds.groupby(level='date').apply(lambda x: spearmanr(x[alpha], x.y_test)[0]).mean()"
   ]
  },
  {
   "cell_type": "code",
   "execution_count": 37,
   "metadata": {
    "ExecuteTime": {
     "end_time": "2020-06-26T18:17:07.798582Z",
     "start_time": "2020-06-26T18:17:07.794683Z"
    }
   },
   "outputs": [
    {
     "data": {
      "text/plain": [
       "1.000000e-15    0.011011\n",
       "1.000000e-13    0.011011\n",
       "1.000000e-11    0.011011\n",
       "1.000000e-09    0.011019\n",
       "1.000000e-07    0.010513\n",
       "1.000000e-05    0.005938\n",
       "1.000000e-03    0.002779\n",
       "1.000000e-01         NaN\n",
       "1.000000e+01         NaN\n",
       "1.000000e+03         NaN\n",
       "1.000000e+05         NaN\n",
       "1.000000e+07         NaN\n",
       "1.000000e+09         NaN\n",
       "1.000000e+11         NaN\n",
       "1.000000e+13         NaN\n",
       "1.000000e+15         NaN\n",
       "dtype: float64"
      ]
     },
     "execution_count": 37,
     "metadata": {},
     "output_type": "execute_result"
    }
   ],
   "source": [
    "pd.Series(ic_by_day_lasso)"
   ]
  },
  {
   "cell_type": "code",
   "execution_count": 38,
   "metadata": {
    "ExecuteTime": {
     "end_time": "2020-06-26T18:17:07.931801Z",
     "start_time": "2020-06-26T18:17:07.799554Z"
    }
   },
   "outputs": [
    {
     "data": {
      "image/png": "[encoded data removed]",
      "text/plain": [
       "<Figure size 432x288 with 1 Axes>"
      ]
     },
     "metadata": {},
     "output_type": "display_data"
    }
   ],
   "source": [
    "pd.Series(ic_by_day_lasso).plot.bar()\n",
    "sns.despine();"
   ]
  },
  {
   "cell_type": "markdown",
   "metadata": {},
   "source": [
    "## LightGBM Model Tuning"
   ]
  },
  {
   "cell_type": "code",
   "execution_count": 206,
   "metadata": {
    "ExecuteTime": {
     "end_time": "2020-06-25T17:41:40.579473Z",
     "start_time": "2020-06-25T17:41:40.577331Z"
    }
   },
   "outputs": [],
   "source": [
    "def get_fi(model):\n",
    "    fi = model.feature_importance(importance_type='gain')\n",
    "    return (pd.Series(fi / fi.sum(),\n",
    "                      index=model.feature_name()))"
   ]
  },
  {
   "cell_type": "markdown",
   "metadata": {},
   "source": [
    "### Hyperparameter Options"
   ]
  },
  {
   "cell_type": "code",
   "execution_count": 207,
   "metadata": {
    "ExecuteTime": {
     "end_time": "2020-06-25T17:41:40.587668Z",
     "start_time": "2020-06-25T17:41:40.580608Z"
    },
    "scrolled": true
   },
   "outputs": [],
   "source": [
    "base_params = dict(boosting='gbdt',\n",
    "                   objective='regression',\n",
    "                   metric=\"None\",\n",
    "                   verbose=-1)"
   ]
  },
  {
   "cell_type": "code",
   "execution_count": 208,
   "metadata": {
    "ExecuteTime": {
     "end_time": "2020-06-25T17:41:40.595945Z",
     "start_time": "2020-06-25T17:41:40.588870Z"
    },
    "scrolled": true
   },
   "outputs": [],
   "source": [
    "learning_rate_ops = [.01, .1]\n",
    "max_depths = [5, 7]\n",
    "num_leaves_opts = [2 ** i for i in max_depths]\n",
    "feature_fraction_opts = [.5, .95]\n",
    "min_data_in_leaf_opts = [500, 2000]"
   ]
  },
  {
   "cell_type": "code",
   "execution_count": 209,
   "metadata": {
    "ExecuteTime": {
     "end_time": "2020-06-25T17:41:43.133685Z",
     "start_time": "2020-06-25T17:41:43.132038Z"
    }
   },
   "outputs": [],
   "source": [
    "param_names = ['learning_rate', 'num_leaves',\n",
    "               'feature_fraction', 'min_data_in_leaf']"
   ]
  },
  {
   "cell_type": "code",
   "execution_count": 210,
   "metadata": {
    "ExecuteTime": {
     "end_time": "2020-06-25T17:41:43.516306Z",
     "start_time": "2020-06-25T17:41:43.510352Z"
    },
    "scrolled": true
   },
   "outputs": [
    {
     "name": "stdout",
     "output_type": "stream",
     "text": [
      "# Parameters: 16\n"
     ]
    }
   ],
   "source": [
    "cv_params = list(product(learning_rate_ops,\n",
    "                         num_leaves_opts,\n",
    "                         feature_fraction_opts,\n",
    "                         min_data_in_leaf_opts))\n",
    "n_params = len(cv_params)\n",
    "print(f'# Parameters: {n_params}')"
   ]
  },
  {
   "cell_type": "markdown",
   "metadata": {},
   "source": [
    "### Categorical Variables"
   ]
  },
  {
   "cell_type": "code",
   "execution_count": 211,
   "metadata": {
    "ExecuteTime": {
     "end_time": "2020-06-25T17:41:47.532290Z",
     "start_time": "2020-06-25T17:41:47.478994Z"
    },
    "scrolled": true
   },
   "outputs": [],
   "source": [
    "for feature in categoricals:\n",
    "    data[feature] = pd.factorize(data[feature], sort=True)[0]"
   ]
  },
  {
   "cell_type": "markdown",
   "metadata": {},
   "source": [
    "### Custom Loss Function: Information Coefficient"
   ]
  },
  {
   "cell_type": "code",
   "execution_count": 212,
   "metadata": {
    "ExecuteTime": {
     "end_time": "2020-06-25T17:41:49.397357Z",
     "start_time": "2020-06-25T17:41:49.392629Z"
    }
   },
   "outputs": [],
   "source": [
    "def ic_lgbm(preds, train_data):\n",
    "    \"\"\"Custom IC eval metric for lightgbm\"\"\"\n",
    "    is_higher_better = True\n",
    "    return 'ic', spearmanr(preds, train_data.get_label())[0], is_higher_better"
   ]
  },
  {
   "cell_type": "markdown",
   "metadata": {},
   "source": [
    "### Run Cross-Validation"
   ]
  },
  {
   "cell_type": "markdown",
   "metadata": {},
   "source": [
    "To identify the ideal number of iterations, we "
   ]
  },
  {
   "cell_type": "code",
   "execution_count": 213,
   "metadata": {
    "ExecuteTime": {
     "end_time": "2020-06-25T17:41:53.073227Z",
     "start_time": "2020-06-25T17:41:53.069947Z"
    },
    "scrolled": true
   },
   "outputs": [],
   "source": [
    "num_boost_rounds = [10, 25, 50, 75] + list(range(100, 2501, 100))"
   ]
  },
  {
   "cell_type": "code",
   "execution_count": 214,
   "metadata": {
    "ExecuteTime": {
     "end_time": "2020-06-25T17:41:53.478131Z",
     "start_time": "2020-06-25T17:41:53.473714Z"
    },
    "scrolled": true
   },
   "outputs": [],
   "source": [
    "metric_cols = (param_names + ['t', 'daily_ic_mean', 'daily_ic_mean_n',\n",
    "                              'daily_ic_median', 'daily_ic_median_n'] +\n",
    "               [str(n) for n in num_iterations])"
   ]
  },
  {
   "cell_type": "code",
   "execution_count": 199,
   "metadata": {
    "ExecuteTime": {
     "end_time": "2020-06-26T13:41:23.530579Z",
     "start_time": "2020-06-26T13:41:23.524664Z"
    }
   },
   "outputs": [],
   "source": [
    "lgb_store = 'lgb_tuning.h5'"
   ]
  },
  {
   "cell_type": "code",
   "execution_count": 215,
   "metadata": {
    "ExecuteTime": {
     "end_time": "2020-06-25T17:41:57.410522Z",
     "start_time": "2020-06-25T17:41:57.408070Z"
    }
   },
   "outputs": [],
   "source": [
    "cvp = np.random.choice(list(range(n_params)),\n",
    "                       size=int(n_params / 1),\n",
    "                       replace=False)\n",
    "cv_params_ = [cv_params[i] for i in cvp]"
   ]
  },
  {
   "cell_type": "code",
   "execution_count": 216,
   "metadata": {
    "ExecuteTime": {
     "end_time": "2020-06-25T17:42:00.080336Z",
     "start_time": "2020-06-25T17:42:00.078110Z"
    }
   },
   "outputs": [
    {
     "name": "stdout",
     "output_type": "stream",
     "text": [
      "Train: 1260 | Test: 63 | Params:  16\n"
     ]
    }
   ],
   "source": [
    "n_splits = int(2 * YEAR / test_length)\n",
    "print(f'Train: {train_length:3.0f} | '\n",
    "      f'Test: {test_length:2.0f} | '\n",
    "      f'Params: {len(cv_params_):3.0f}')"
   ]
  },
  {
   "cell_type": "code",
   "execution_count": 217,
   "metadata": {
    "ExecuteTime": {
     "end_time": "2020-06-25T17:42:06.126711Z",
     "start_time": "2020-06-25T17:42:06.124719Z"
    }
   },
   "outputs": [],
   "source": [
    "cv = MultipleTimeSeriesCV(n_splits=n_splits,\n",
    "                          lookahead=lookahead,\n",
    "                          test_period_length=test_length,\n",
    "                          train_period_length=train_length)"
   ]
  },
  {
   "cell_type": "code",
   "execution_count": null,
   "metadata": {
    "ExecuteTime": {
     "end_time": "2020-06-26T12:12:41.842022Z",
     "start_time": "2020-06-26T10:47:36.914281Z"
    },
    "scrolled": false
   },
   "outputs": [
    {
     "name": "stdout",
     "output_type": "stream",
     "text": [
      "0 |  2,500 |  3.71%\n",
      "1 |  2,500 |  6.36%\n",
      "2 |  2,500 |  2.99%\n",
      "3 |  2,500 |  3.09%\n",
      "4 |  2,500 |  4.03%\n",
      "5 |  2,500 |  1.47%\n",
      "6 |  2,500 |  2.70%\n",
      "7 |  2,500 |  2.26%\n",
      "\n",
      "  0 | 02:31:25 | 02:31:25 |  0.10 | 128 | 95% | 2000 |   2.90% |   200\n",
      "0 |  2,500 |  4.29%\n",
      "1 |  2,500 |  6.44%\n",
      "2 |  2,500 |  2.34%\n",
      "3 |  2,500 |  1.98%\n",
      "4 |  2,500 |  3.59%\n",
      "5 |  2,500 |  0.75%\n",
      "6 |  2,500 |  2.93%\n",
      "7 |  2,500 |  3.21%\n",
      "\n",
      "  1 | 03:18:23 | 00:46:57 |  0.10 |  32 | 95% | 2000 |   2.65% |   400\n",
      "0 |  2,500 |  4.00%\n",
      "1 |  2,500 |  5.67%\n",
      "2 |  2,500 |  2.07%\n",
      "3 |  2,500 |  3.51%\n",
      "4 |  2,500 |  4.05%\n",
      "5 |  2,500 |  1.11%\n",
      "6 |  2,500 |  2.01%\n",
      "7 |  2,500 |  2.70%\n",
      "\n",
      "  2 | 05:37:06 | 02:18:44 |  0.10 | 128 | 50% | 2000 |   2.70% |   100\n",
      "0 |  2,500 |  3.77%\n",
      "1 |  2,500 |  6.74%\n",
      "2 |  2,500 |  2.79%\n",
      "3 |  2,500 |  1.96%\n",
      "4 |  2,500 |  3.69%\n",
      "5 |  2,500 |  0.42%\n",
      "6 |  2,500 |  2.11%\n",
      "7 |  2,500 |  2.30%\n",
      "\n",
      "  3 | 07:02:10 | 01:25:03 |  0.10 | 128 | 95% |  500 |   2.62% |   300\n",
      "0 |  2,500 |  4.77%\n",
      "1 |  2,500 |  5.59%\n",
      "2 |  2,500 |  2.55%\n",
      "3 |  2,500 |  3.83%\n",
      "4 |  2,500 |  3.47%\n",
      "5 |  2,500 |  1.39%\n",
      "6 |  2,500 |  1.50%\n",
      "7 |  2,500 |  2.38%\n",
      "\n",
      "  4 | 07:45:25 | 00:43:15 |  0.10 |  32 | 50% | 2000 |   2.80% |   500\n",
      "0 |  2,500 |  4.50%\n",
      "1 |  2,500 |  7.27%\n",
      "2 |  2,500 |  2.48%\n",
      "3 |  2,500 |  2.11%\n",
      "4 |  2,500 |  3.92%\n",
      "5 |  2,500 |  0.10%\n",
      "6 |  2,500 |  2.77%\n",
      "7 |  2,500 |  3.38%\n",
      "\n",
      "  5 | 09:31:29 | 01:46:04 |  0.01 | 128 | 95% |  500 |   3.00% |  1100\n",
      "0 |  2,500 |  3.86%\n",
      "1 |  2,500 |  5.42%\n",
      "2 |  2,500 |  2.42%\n",
      "3 |  2,500 |  2.04%\n",
      "4 |  2,500 |  3.52%\n",
      "5 |  2,500 |  0.78%\n",
      "6 |  2,500 |  1.76%\n",
      "7 |  2,500 |  1.93%\n",
      "\n",
      "  6 | 10:06:35 | 00:35:06 |  0.10 |  32 | 95% |  500 |   2.15% |   600\n",
      "0 |  2,500 |  4.04%\n",
      "1 |  2,500 |  6.38%\n",
      "2 | "
     ]
    }
   ],
   "source": [
    "T = 0\n",
    "for p, param_vals in enumerate(cv_params_):\n",
    "#     key = f'{train_length}/{test_length}/' + '/'.join([str(p) for p in param_vals])\n",
    "    key = '/'.join([str(p) for p in param_vals])\n",
    "    model_key = '_'.join([str(p) for p in param_vals])\n",
    "    params = dict(zip(param_names, param_vals))\n",
    "    params.update(base_params)\n",
    "    start = time()\n",
    "    \n",
    "    daily_ic_mean = np.full(shape=(n_splits, \n",
    "                              len(num_boost_rounds)),\n",
    "                      fill_value=np.nan)\n",
    "    # train on data through 2015 to select the best model\n",
    "    for n_split, (train_idx, test_idx) in enumerate(cv.split(X=cv_data)):\n",
    "        print(f'{n_split} |', end=' ', flush=True)\n",
    "        train_set = cv_data.iloc[train_idx, :]\n",
    "        lgb_train = lgb.Dataset(data=train_set.loc[:, features],\n",
    "                       label=train_set[target],\n",
    "                       categorical_feature=categoricals,\n",
    "                       free_raw_data=False)\n",
    "        \n",
    "        test_set = cv_data.iloc[test_idx, :]\n",
    "        X_test = test_set.loc[:, features]\n",
    "        y_test = test_set.loc[:, target].to_frame('y_true')\n",
    "        \n",
    "        model = None\n",
    "        current_iteration = 0\n",
    "        best_score, best_iteration = -np.inf, 0\n",
    "        for i, num_boost_round in enumerate(num_boost_rounds):\n",
    "            model = lgb.train(params=params,\n",
    "                              init_model=model,\n",
    "                              train_set=lgb_train,\n",
    "                              num_boost_round=num_boost_round - current_iteration,\n",
    "                              verbose_eval=False)\n",
    "            current_iteration = model.current_iteration()\n",
    "            y_test = y_test.assign(y_pred=model.predict(X_test))\n",
    "            daily_ic = y_test.groupby(level='date').apply(lambda x: spearmanr(x.y_true, x.y_pred)[0]).mean()\n",
    "            daily_ic_mean[n_split, i] = daily_ic\n",
    "            \n",
    "            # manual early stopping to save some training time\n",
    "            if daily_ic > best_score:\n",
    "                best_score = daily_ic\n",
    "                best_iteration = num_boost_round\n",
    "#             else:\n",
    "#                 if num_boost_round - best_iteration > 2500:\n",
    "#                     print(f'{num_boost_round:6,.0f} | {best_score:6.2%}', flush=True)\n",
    "#                     break\n",
    "            if num_boost_round == num_boost_rounds[-1]:\n",
    "                print(f'{num_boost_round:6,.0f} | {best_score:6.2%}', flush=True)\n",
    "        model.save_model('models/' + model_key + f'_{n_split}.txt')\n",
    "\n",
    "    t = time() - start\n",
    "    T += t\n",
    "    ic = pd.DataFrame(daily_ic_mean.T, \n",
    "                          columns=list(range(1, n_splits+1)),\n",
    "                          index=num_boost_rounds)\n",
    "    \n",
    "    ic_mean = ic.dropna().mean(1).max()\n",
    "    ic_mean_n = ic.dropna().mean(1).idxmax()\n",
    "\n",
    "    msg = f'\\n{p:3.0f} | {format_time(T)} | {format_time(t)} | {params[\"learning_rate\"]:5.2f} | '\n",
    "    msg += f'{params[\"num_leaves\"]:3.0f} | {params[\"feature_fraction\"]:3.0%} | {params[\"min_data_in_leaf\"]:4.0f} | '\n",
    "    msg += f' {ic_mean:6.2%} | {ic_mean_n:5.0f}'\n",
    "    print(msg)\n",
    "    ic.to_hdf(lgb_store, 'ic/' + key)"
   ]
  },
  {
   "cell_type": "code",
   "execution_count": null,
   "metadata": {},
   "outputs": [],
   "source": []
  },
  {
   "cell_type": "raw",
   "metadata": {},
   "source": []
  },
  {
   "cell_type": "code",
   "execution_count": null,
   "metadata": {
    "ExecuteTime": {
     "end_time": "2020-06-26T14:05:02.265037Z",
     "start_time": "2020-06-26T14:05:00.510771Z"
    }
   },
   "outputs": [],
   "source": [
    "to_drop = ['boosting', 'objective', 'verbose']\n",
    "id_cols = ['learning_rate', 'num_leaves',\n",
    "           'feature_fraction', 'min_data_in_leaf',\n",
    "           'train_test', 'date']\n",
    "\n",
    "daily_ic = []\n",
    "with pd.HDFStore(lgb_store) as store:\n",
    "    for key in store.keys():\n",
    "        if key[1:].startswith('daily_ic'):\n",
    "            train_length, test_length = key.replace(\n",
    "                '/daily_ic/', '').split('/')[:2]\n",
    "            df = store[key].drop(to_drop, axis=1).assign(train_test=train_length + '_' + test_length)\n",
    "            daily_ic.append(pd.melt(df.reset_index(),\n",
    "                                    id_vars=id_cols,\n",
    "                                    var_name='nrounds',\n",
    "                                    value_name='ic'))\n",
    "daily_ic = pd.concat(daily_ic).dropna()\n",
    "daily_ic['date'] = pd.factorize(daily_ic['date'], sort=True)[0]\n",
    "daily_ic.nrounds = daily_ic.nrounds.astype(int)\n",
    "daily_ic = daily_ic.sort_values(id_cols[:-1])"
   ]
  },
  {
   "cell_type": "code",
   "execution_count": null,
   "metadata": {
    "ExecuteTime": {
     "end_time": "2020-06-26T14:05:03.310232Z",
     "start_time": "2020-06-26T14:05:03.250902Z"
    }
   },
   "outputs": [],
   "source": [
    "daily_ic.info()"
   ]
  },
  {
   "cell_type": "code",
   "execution_count": null,
   "metadata": {
    "ExecuteTime": {
     "end_time": "2020-06-26T14:55:47.278411Z",
     "start_time": "2020-06-26T14:55:47.169220Z"
    }
   },
   "outputs": [],
   "source": [
    "daily_ic_avg = (daily_ic\n",
    "                .groupby(id_cols[:-1] + ['nrounds'])\n",
    "                .ic.mean()\n",
    "                .to_frame('ic')\n",
    "                .reset_index()\n",
    "                .sort_values('ic', ascending=False))"
   ]
  },
  {
   "cell_type": "code",
   "execution_count": null,
   "metadata": {
    "ExecuteTime": {
     "end_time": "2020-06-26T14:55:53.050195Z",
     "start_time": "2020-06-26T14:55:53.030471Z"
    }
   },
   "outputs": [],
   "source": [
    "daily_ic_avg.info()"
   ]
  },
  {
   "cell_type": "code",
   "execution_count": null,
   "metadata": {
    "ExecuteTime": {
     "end_time": "2020-06-26T15:12:22.696105Z",
     "start_time": "2020-06-26T15:12:22.677320Z"
    }
   },
   "outputs": [],
   "source": [
    "train_test = daily_ic_avg.train_test.str.split('_', expand=True).astype(int)\n",
    "train_test.columns= ['train_length', 'test_length']\n",
    "daily_ic_avg = daily_ic_avg.drop('train_test', axis=1).join(train_test)"
   ]
  },
  {
   "cell_type": "code",
   "execution_count": null,
   "metadata": {
    "ExecuteTime": {
     "end_time": "2020-06-26T14:19:20.970344Z",
     "start_time": "2020-06-26T14:19:20.878572Z"
    }
   },
   "outputs": [],
   "source": [
    "with pd.HDFStore(lgb_store) as store:\n",
    "    best_preds = store['predictions/1260/63/0.01/32/0.3/250']"
   ]
  },
  {
   "cell_type": "code",
   "execution_count": null,
   "metadata": {
    "ExecuteTime": {
     "end_time": "2020-06-26T14:20:03.957984Z",
     "start_time": "2020-06-26T14:20:03.906193Z"
    }
   },
   "outputs": [],
   "source": [
    "spearmanr(best_preds.y_test, best_preds['1500'])[0]"
   ]
  },
  {
   "cell_type": "code",
   "execution_count": null,
   "metadata": {
    "ExecuteTime": {
     "end_time": "2020-06-26T14:35:39.494324Z",
     "start_time": "2020-06-26T14:35:39.470774Z"
    }
   },
   "outputs": [],
   "source": [
    "best_preds['2500'].to_hdf('predictions.h5', 'predictions')"
   ]
  },
  {
   "cell_type": "markdown",
   "metadata": {},
   "source": [
    "### AlphaLens Analysis"
   ]
  },
  {
   "cell_type": "markdown",
   "metadata": {},
   "source": [
    "#### Prepare Factor Data"
   ]
  },
  {
   "cell_type": "code",
   "execution_count": null,
   "metadata": {
    "ExecuteTime": {
     "end_time": "2020-06-26T14:37:30.472780Z",
     "start_time": "2020-06-26T14:37:30.413255Z"
    },
    "scrolled": false
   },
   "outputs": [],
   "source": [
    "t = 1\n",
    "idx = pd.IndexSlice\n",
    "factor = (pd.read_hdf('predictions.h5', 'predictions/lr').y_pred\n",
    "          .sort_index()\n",
    "          .dropna()\n",
    "          .tz_localize('UTC', level='date')\n",
    "          .swaplevel())"
   ]
  },
  {
   "cell_type": "code",
   "execution_count": null,
   "metadata": {
    "ExecuteTime": {
     "end_time": "2020-06-26T14:37:30.597560Z",
     "start_time": "2020-06-26T14:37:30.591328Z"
    }
   },
   "outputs": [],
   "source": [
    "dates = factor.index.get_level_values('date')\n",
    "dates.min(), dates.max()"
   ]
  },
  {
   "cell_type": "code",
   "execution_count": null,
   "metadata": {
    "ExecuteTime": {
     "end_time": "2020-06-26T14:37:31.009817Z",
     "start_time": "2020-06-26T14:37:30.994385Z"
    }
   },
   "outputs": [],
   "source": [
    "factor.head()"
   ]
  },
  {
   "cell_type": "markdown",
   "metadata": {},
   "source": [
    "#### Select next available trade prices"
   ]
  },
  {
   "cell_type": "markdown",
   "metadata": {},
   "source": [
    "Using next available prices."
   ]
  },
  {
   "cell_type": "code",
   "execution_count": null,
   "metadata": {
    "ExecuteTime": {
     "end_time": "2020-06-26T14:28:40.681332Z",
     "start_time": "2020-06-26T14:28:40.675185Z"
    }
   },
   "outputs": [],
   "source": [
    "def get_trade_prices(tickers):\n",
    "    return (pd.read_hdf(DATA_STORE, 'us_stocks')\n",
    "              .loc[idx[tickers, '2006':'2017'], 'open']\n",
    "              .unstack('ticker')\n",
    "              .sort_index()\n",
    "            .shift(-1)\n",
    "            .tz_localize('UTC'))"
   ]
  },
  {
   "cell_type": "code",
   "execution_count": null,
   "metadata": {
    "ExecuteTime": {
     "end_time": "2020-06-26T14:28:40.955627Z",
     "start_time": "2020-06-26T14:28:40.941782Z"
    }
   },
   "outputs": [],
   "source": [
    "tickers = factor.index.get_level_values('ticker').unique()"
   ]
  },
  {
   "cell_type": "code",
   "execution_count": null,
   "metadata": {
    "ExecuteTime": {
     "end_time": "2020-06-26T14:28:55.897414Z",
     "start_time": "2020-06-26T14:28:41.293021Z"
    },
    "scrolled": true
   },
   "outputs": [],
   "source": [
    "trade_prices = get_trade_prices(tickers)\n",
    "trade_prices.info()"
   ]
  },
  {
   "cell_type": "markdown",
   "metadata": {},
   "source": [
    "#### Get AlphaLens Inputs"
   ]
  },
  {
   "cell_type": "code",
   "execution_count": null,
   "metadata": {
    "ExecuteTime": {
     "end_time": "2020-06-26T14:37:37.324980Z",
     "start_time": "2020-06-26T14:37:34.074405Z"
    },
    "scrolled": false
   },
   "outputs": [],
   "source": [
    "factor_data = get_clean_factor_and_forward_returns(factor=factor,\n",
    "                                                   prices=trade_prices,\n",
    "                                                   quantiles=5,\n",
    "                                                   periods=(1, 5, 10, 21))\n",
    "factor_data.sort_index().info()"
   ]
  },
  {
   "cell_type": "markdown",
   "metadata": {},
   "source": [
    "#### Summary Tearsheet"
   ]
  },
  {
   "cell_type": "code",
   "execution_count": null,
   "metadata": {
    "ExecuteTime": {
     "end_time": "2020-06-26T14:36:01.448039Z",
     "start_time": "2020-06-26T14:35:53.262031Z"
    },
    "scrolled": false
   },
   "outputs": [],
   "source": [
    "create_summary_tear_sheet(factor_data)"
   ]
  },
  {
   "cell_type": "markdown",
   "metadata": {},
   "source": [
    "## Generate LightGBM predictions"
   ]
  },
  {
   "cell_type": "markdown",
   "metadata": {},
   "source": [
    "### Model Configuration"
   ]
  },
  {
   "cell_type": "code",
   "execution_count": null,
   "metadata": {
    "ExecuteTime": {
     "end_time": "2020-06-26T14:57:21.155285Z",
     "start_time": "2020-06-26T14:57:21.147543Z"
    }
   },
   "outputs": [],
   "source": [
    "base_params = dict(boosting='gbdt',\n",
    "                   objective='regression',\n",
    "                   verbose=-1)\n",
    "\n",
    "categoricals = ['year', 'month', 'weekday']"
   ]
  },
  {
   "cell_type": "markdown",
   "metadata": {},
   "source": [
    "### Get Data"
   ]
  },
  {
   "cell_type": "code",
   "execution_count": null,
   "metadata": {
    "ExecuteTime": {
     "end_time": "2020-06-26T14:57:36.595743Z",
     "start_time": "2020-06-26T14:57:36.510366Z"
    }
   },
   "outputs": [],
   "source": [
    "lgb_data = lgb.Dataset(data=data[features],\n",
    "                       label=data[target],\n",
    "                       categorical_feature=categoricals,\n",
    "                       free_raw_data=False)"
   ]
  },
  {
   "cell_type": "markdown",
   "metadata": {},
   "source": [
    "### Generate predictions"
   ]
  },
  {
   "cell_type": "code",
   "execution_count": null,
   "metadata": {
    "ExecuteTime": {
     "end_time": "2020-06-26T15:20:15.213970Z",
     "start_time": "2020-06-26T15:20:15.208209Z"
    }
   },
   "outputs": [],
   "source": [
    "best_params = (daily_ic_avg.nlargest(5,\n",
    "                                     columns=['ic'])\n",
    "               .drop('ic', axis=1)\n",
    "               .to_dict('records'))"
   ]
  },
  {
   "cell_type": "code",
   "execution_count": null,
   "metadata": {
    "ExecuteTime": {
     "end_time": "2020-06-26T15:39:43.000285Z",
     "start_time": "2020-06-26T15:20:15.647432Z"
    },
    "scrolled": false
   },
   "outputs": [],
   "source": [
    "for position, params in enumerate(best_params):\n",
    "    train_length = params.pop('train_length')\n",
    "    test_length = params.pop('test_length')\n",
    "    num_boost_round = params.pop('nrounds')\n",
    "    params.update(base_params)\n",
    "\n",
    "    n_splits = int(1 * YEAR / test_length)\n",
    "    cv = MultipleTimeSeriesCV(n_splits=n_splits,\n",
    "                              test_period_length=test_length,\n",
    "                              lookahead=lookahead,\n",
    "                              train_period_length=train_length)\n",
    "\n",
    "    predictions = []\n",
    "    start = time()\n",
    "    for fold, (train_idx, test_idx) in enumerate(cv.split(X=data), 1):\n",
    "        print(fold, end=' ', flush=True)\n",
    "        lgb_train = lgb_data.subset(train_idx.tolist()).construct()\n",
    "\n",
    "        model = lgb.train(params=params,\n",
    "                          train_set=lgb_train,\n",
    "                          num_boost_round=num_boost_round,\n",
    "                          verbose_eval=False)\n",
    "\n",
    "        test_set = data.iloc[test_idx, :]\n",
    "        y_test = test_set.loc[:, target].to_frame('y_test')\n",
    "        y_pred = model.predict(test_set.loc[:, model.feature_name()])\n",
    "        predictions.append(y_test.assign(prediction=y_pred))\n",
    "\n",
    "    if position == 0:\n",
    "        test_predictions = (pd.concat(predictions)\n",
    "                            .rename(columns={'prediction': position}))\n",
    "    else:\n",
    "        test_predictions[position] = pd.concat(predictions).prediction"
   ]
  },
  {
   "cell_type": "code",
   "execution_count": null,
   "metadata": {
    "ExecuteTime": {
     "end_time": "2020-06-26T15:42:40.443791Z",
     "start_time": "2020-06-26T15:42:40.411414Z"
    }
   },
   "outputs": [],
   "source": [
    "test_predictions.to_hdf('predictions.h5', f'lgb/test')"
   ]
  },
  {
   "cell_type": "code",
   "execution_count": null,
   "metadata": {
    "ExecuteTime": {
     "end_time": "2020-06-26T15:42:41.911929Z",
     "start_time": "2020-06-26T15:42:41.025142Z"
    }
   },
   "outputs": [],
   "source": [
    "by_day = test_predictions.groupby(level='date')\n",
    "for position in range(5):\n",
    "    if position == 0:\n",
    "        ic_by_day = by_day.apply(lambda x: spearmanr(x.y_test, x[position])[0]).to_frame()\n",
    "    else:\n",
    "        ic_by_day[position] = by_day.apply(lambda x: spearmanr(x.y_test, x[position])[0])\n",
    "print(ic_by_day.describe())\n",
    "ic_by_day.to_csv(f'ic_by_day_test.csv')"
   ]
  },
  {
   "cell_type": "markdown",
   "metadata": {},
   "source": [
    "### AlphaLens Analysis"
   ]
  },
  {
   "cell_type": "markdown",
   "metadata": {},
   "source": [
    "#### Prepare Factor Data"
   ]
  },
  {
   "cell_type": "code",
   "execution_count": null,
   "metadata": {
    "ExecuteTime": {
     "end_time": "2020-06-26T15:43:56.710453Z",
     "start_time": "2020-06-26T15:43:56.662509Z"
    },
    "scrolled": false
   },
   "outputs": [],
   "source": [
    "t = 1\n",
    "idx = pd.IndexSlice\n",
    "factor = (pd.read_hdf('predictions.h5', 'lgb/test')\n",
    "          .drop('y_test', axis=1)\n",
    "          .iloc[:, :5]\n",
    "          .mean(1)\n",
    "          .sort_index()\n",
    "          .dropna()\n",
    "          .tz_localize('UTC', level='date')\n",
    "          .swaplevel())"
   ]
  },
  {
   "cell_type": "code",
   "execution_count": null,
   "metadata": {
    "ExecuteTime": {
     "end_time": "2020-06-26T15:43:57.375051Z",
     "start_time": "2020-06-26T15:43:57.364031Z"
    }
   },
   "outputs": [],
   "source": [
    "dates = factor.index.get_level_values('date')\n",
    "dates.min(), dates.max()"
   ]
  },
  {
   "cell_type": "code",
   "execution_count": null,
   "metadata": {
    "ExecuteTime": {
     "end_time": "2020-06-26T15:44:01.191996Z",
     "start_time": "2020-06-26T15:44:01.184072Z"
    }
   },
   "outputs": [],
   "source": [
    "factor.head()"
   ]
  },
  {
   "cell_type": "markdown",
   "metadata": {},
   "source": [
    "#### Select next available trade prices"
   ]
  },
  {
   "cell_type": "code",
   "execution_count": null,
   "metadata": {
    "ExecuteTime": {
     "end_time": "2020-06-26T15:44:03.542771Z",
     "start_time": "2020-06-26T15:44:03.522356Z"
    }
   },
   "outputs": [],
   "source": [
    "tickers = factor.index.get_level_values('ticker').unique()"
   ]
  },
  {
   "cell_type": "code",
   "execution_count": null,
   "metadata": {
    "ExecuteTime": {
     "end_time": "2020-06-26T15:44:18.705931Z",
     "start_time": "2020-06-26T15:44:03.926940Z"
    },
    "scrolled": true
   },
   "outputs": [],
   "source": [
    "trade_prices = get_trade_prices(tickers)\n",
    "trade_prices.info()"
   ]
  },
  {
   "cell_type": "markdown",
   "metadata": {},
   "source": [
    "#### Get AlphaLens Inputs"
   ]
  },
  {
   "cell_type": "code",
   "execution_count": null,
   "metadata": {
    "ExecuteTime": {
     "end_time": "2020-06-26T15:44:20.662399Z",
     "start_time": "2020-06-26T15:44:18.707020Z"
    },
    "scrolled": false
   },
   "outputs": [],
   "source": [
    "factor_data = get_clean_factor_and_forward_returns(factor=factor,\n",
    "                                                   prices=trade_prices,\n",
    "                                                   quantiles=5,\n",
    "                                                   periods=(1, 5, 10, 21))\n",
    "factor_data.sort_index().info()"
   ]
  },
  {
   "cell_type": "markdown",
   "metadata": {},
   "source": [
    "#### Summary Tearsheet"
   ]
  },
  {
   "cell_type": "code",
   "execution_count": null,
   "metadata": {
    "ExecuteTime": {
     "end_time": "2020-06-26T15:44:25.053458Z",
     "start_time": "2020-06-26T15:44:20.663549Z"
    },
    "scrolled": false
   },
   "outputs": [],
   "source": [
    "create_summary_tear_sheet(factor_data)"
   ]
  },
  {
   "cell_type": "markdown",
   "metadata": {},
   "source": [
    "#### Full Tearsheet"
   ]
  },
  {
   "cell_type": "code",
   "execution_count": null,
   "metadata": {
    "ExecuteTime": {
     "end_time": "2020-06-21T11:56:42.017180Z",
     "start_time": "2020-06-21T03:18:48.873Z"
    },
    "scrolled": true
   },
   "outputs": [],
   "source": [
    "create_full_tear_sheet(factor_data,\n",
    "                       long_short=True, \n",
    "                       group_neutral=False, \n",
    "                       by_group=True)"
   ]
  },
  {
   "cell_type": "code",
   "execution_count": null,
   "metadata": {},
   "outputs": [],
   "source": []
  }
 ],
 "metadata": {
  "kernelspec": {
   "display_name": "Python [conda env:liveproject]",
   "language": "python",
   "name": "conda-env-liveproject-py"
  },
  "language_info": {
   "codemirror_mode": {
    "name": "ipython",
    "version": 3
   },
   "file_extension": ".py",
   "mimetype": "text/x-python",
   "name": "python",
   "nbconvert_exporter": "python",
   "pygments_lexer": "ipython3",
   "version": "3.7.7"
  },
  "toc": {
   "base_numbering": 1,
   "nav_menu": {},
   "number_sections": true,
   "sideBar": true,
   "skip_h1_title": true,
   "title_cell": "Table of Contents",
   "title_sidebar": "Contents",
   "toc_cell": false,
   "toc_position": {
    "height": "calc(100% - 180px)",
    "left": "10px",
    "top": "150px",
    "width": "292.016px"
   },
   "toc_section_display": true,
   "toc_window_display": true
  }
 },
 "nbformat": 4,
 "nbformat_minor": 2
}
