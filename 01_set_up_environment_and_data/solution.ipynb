{
 "cells": [
  {
   "cell_type": "markdown",
   "metadata": {},
   "source": [
    "# Store US Stock Prices in HDF5 Format"
   ]
  },
  {
   "cell_type": "markdown",
   "metadata": {},
   "source": [
    "## Imports"
   ]
  },
  {
   "cell_type": "code",
   "execution_count": 1,
   "metadata": {},
   "outputs": [],
   "source": [
    "import pandas as pd"
   ]
  },
  {
   "cell_type": "markdown",
   "metadata": {},
   "source": [
    "## Load source data"
   ]
  },
  {
   "cell_type": "code",
   "execution_count": 2,
   "metadata": {},
   "outputs": [],
   "source": [
    "df = pd.read_csv('../data/us_stocks.csv')"
   ]
  },
  {
   "cell_type": "code",
   "execution_count": 3,
   "metadata": {},
   "outputs": [
    {
     "name": "stdout",
     "output_type": "stream",
     "text": [
      "<class 'pandas.core.frame.DataFrame'>\n",
      "RangeIndex: 15389314 entries, 0 to 15389313\n",
      "Data columns (total 14 columns):\n",
      " #   Column       Non-Null Count     Dtype  \n",
      "---  ------       --------------     -----  \n",
      " 0   ticker       15389314 non-null  object \n",
      " 1   date         15389314 non-null  object \n",
      " 2   open         15388776 non-null  float64\n",
      " 3   high         15389259 non-null  float64\n",
      " 4   low          15389259 non-null  float64\n",
      " 5   close        15389313 non-null  float64\n",
      " 6   volume       15389314 non-null  float64\n",
      " 7   ex-dividend  15389314 non-null  float64\n",
      " 8   split_ratio  15389313 non-null  float64\n",
      " 9   adj_open     15388776 non-null  float64\n",
      " 10  adj_high     15389259 non-null  float64\n",
      " 11  adj_low      15389259 non-null  float64\n",
      " 12  adj_close    15389313 non-null  float64\n",
      " 13  adj_volume   15389314 non-null  float64\n",
      "dtypes: float64(12), object(2)\n",
      "memory usage: 1.6+ GB\n"
     ]
    }
   ],
   "source": [
    "df.info(null_counts=True)"
   ]
  },
  {
   "cell_type": "code",
   "execution_count": 4,
   "metadata": {},
   "outputs": [],
   "source": [
    "df.date = pd.to_datetime(df.date)\n",
    "df = df[df.date > '2000']"
   ]
  },
  {
   "cell_type": "code",
   "execution_count": 5,
   "metadata": {},
   "outputs": [],
   "source": [
    "df = (df.set_index(['ticker', 'date'])\n",
    "      .filter(like='adj')\n",
    "      .rename(columns=lambda x: x.replace('adj_', ''))\n",
    "      .dropna())"
   ]
  },
  {
   "cell_type": "code",
   "execution_count": 6,
   "metadata": {},
   "outputs": [
    {
     "name": "stdout",
     "output_type": "stream",
     "text": [
      "<class 'pandas.core.frame.DataFrame'>\n",
      "MultiIndex: 11343366 entries, ('A', Timestamp('2000-01-03 00:00:00')) to ('ZUMZ', Timestamp('2018-03-27 00:00:00'))\n",
      "Data columns (total 5 columns):\n",
      " #   Column  Non-Null Count     Dtype  \n",
      "---  ------  --------------     -----  \n",
      " 0   open    11343366 non-null  float64\n",
      " 1   high    11343366 non-null  float64\n",
      " 2   low     11343366 non-null  float64\n",
      " 3   close   11343366 non-null  float64\n",
      " 4   volume  11343366 non-null  float64\n",
      "dtypes: float64(5)\n",
      "memory usage: 476.0+ MB\n"
     ]
    }
   ],
   "source": [
    "df.info(null_counts=True)"
   ]
  },
  {
   "cell_type": "markdown",
   "metadata": {},
   "source": [
    "## Store in HDF5 format"
   ]
  },
  {
   "cell_type": "code",
   "execution_count": 8,
   "metadata": {},
   "outputs": [],
   "source": [
    "df.to_hdf('../data/stock_prices.h5', 'us_stocks')"
   ]
  }
 ],
 "metadata": {
  "kernelspec": {
   "display_name": "Python [conda env:liveproject]",
   "language": "python",
   "name": "conda-env-liveproject-py"
  },
  "language_info": {
   "codemirror_mode": {
    "name": "ipython",
    "version": 3
   },
   "file_extension": ".py",
   "mimetype": "text/x-python",
   "name": "python",
   "nbconvert_exporter": "python",
   "pygments_lexer": "ipython3",
   "version": "3.7.7"
  }
 },
 "nbformat": 4,
 "nbformat_minor": 4
}
